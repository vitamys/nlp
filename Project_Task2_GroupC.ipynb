{
 "cells": [
  {
   "cell_type": "code",
   "execution_count": 40,
   "metadata": {},
   "outputs": [],
   "source": [
    "from datasets import load_dataset \n",
    "import numpy as np\n",
    "import spacy\n",
    "import re\n",
    "from spacy.tokens import Span\n",
    "from spacy.training import Example\n",
    "import json\n",
    "from spacy.scorer import Scorer"
   ]
  },
  {
   "cell_type": "code",
   "execution_count": 2,
   "metadata": {},
   "outputs": [],
   "source": [
    "def get_random_entry(dataset, seed=None):\n",
    "    np.random.seed(seed=seed)\n",
    "    random_entry = int(dataset[\"train\"].num_rows*np.random.random())\n",
    "    return dataset[\"train\"][random_entry]"
   ]
  },
  {
   "cell_type": "markdown",
   "metadata": {},
   "source": [
    "### Identify NER Types"
   ]
  },
  {
   "cell_type": "code",
   "execution_count": 3,
   "metadata": {},
   "outputs": [],
   "source": [
    "medical_dataset = load_dataset(\"argilla/medical-domain\")"
   ]
  },
  {
   "cell_type": "code",
   "execution_count": 4,
   "metadata": {},
   "outputs": [
    {
     "name": "stdout",
     "output_type": "stream",
     "text": [
      "Medical Field:  Surgery\n",
      "HISTORY: , Patient is a 21-year-old white woman who presented with a chief complaint of chest pain.  She had been previously diagnosed with hyperthyroidism.  Upon admission, she had complaints of constant left sided chest pain that radiated to her left arm.  She had been experiencing palpitations and tachycardia.  She had no diaphoresis, no nausea, vomiting, or dyspnea.,She had a significant TSH of 0.004 and a free T4 of 19.3.  Normal ranges for TSH and free T4 are 0.5-4.7 µIU/mL and 0.8-1.8 ng/dL, respectively.  Her symptoms started four months into her pregnancy as tremors, hot flashes, agitation, and emotional inconsistency.  She gained 16 pounds during her pregnancy and has lost 80 pounds afterwards.  She complained of sweating, but has experienced no diarrhea and no change in appetite.  She was given isosorbide mononitrate and IV steroids in the ER.,FAMILY HISTORY:,  Diabetes, Hypertension, Father had a Coronary Artery Bypass Graph (CABG) at age 34.,SOCIAL HISTORY:,  She had a baby five months ago.  She smokes a half pack a day.  She denies alcohol and drug use.,MEDICATIONS:,  Citalopram 10mg once daily for depression; low dose tramadol PRN pain.,PHYSICAL EXAMINATION: , Temperature 98.4; Pulse 123; Respiratory Rate 16; Blood Pressure 143/74.,HEENT:  She has exophthalmos and could not close her lids completely.,Cardiovascular:  tachycardia.,Neurologic:  She had mild hyperreflexiveness.,LAB:,  All labs within normal limits with the exception of Sodium 133, Creatinine 0.2, TSH 0.004, Free T4 19.3 EKG showed sinus tachycardia with a rate of 122.  Urine pregnancy test was negative.,HOSPITAL COURSE: , After admission, she was given propranolol at 40mg daily and continued on telemetry.  On the 2nd day of treatment, the patient still complained of chest pain.  EKG again showed tachycardia.  Propranolol was increased from 40mg daily to 60mg twice daily., A I-123 thyroid uptake scan demonstrated an increased thyroid uptake of 90% at 4 hours and 94% at 24 hours.  The normal range for 4-hour uptake is 5-15% and 15-25% for 24-hour uptake.  Endocrine consult recommended radioactive I-131 for treatment of Graves disease.,Two days later she received 15.5mCi of I-131.  She was to return home after the iodine treatment.  She was instructed to avoid contact with her baby for the next week and to cease breast feeding.,ASSESSMENT / PLAN:,1. Treatment of hyperthyroidism.  Patient underwent radioactive iodine 131 ablation therapy.,2. Management of cardiac symptoms stemming from hyperthyroidism.  Patient was discharged on propranolol 60mg, one tablet twice daily.,3. Monitor patient for complications of I-131 therapy such as hypothyroidism.  She should return to Endocrine Clinic in six weeks to have thyroid function tests performed.  Long-term follow-up includes thyroid function tests at 6-12 month intervals.,4. Prevention of pregnancy for one year post I-131 therapy.  Patient was instructed to use 2 forms of birth control and was discharged an oral contraceptive, taken one tablet daily.,5. Monitor ocular health.  Patient was given methylcellulose ophthalmic, one drop in each eye daily.  She should follow up in 6 weeks with the Ophthalmology clinic.,6. Management of depression.  Patient will be continued on citalopram 10 mg.\n"
     ]
    }
   ],
   "source": [
    "# Manuel data inspection for NER Types by printing random health records\n",
    "print(\"Medical Field: \" + str(get_random_entry(medical_dataset)[\"prediction\"][0][\"label\"]))\n",
    "print(get_random_entry(medical_dataset)[\"text\"])"
   ]
  },
  {
   "cell_type": "markdown",
   "metadata": {},
   "source": [
    "#### Identified NER Types by manual data inspection\n",
    "General\n",
    "- Person\n",
    "- Organization\n",
    "- Time\n",
    "- Date\n",
    "- Event\n",
    "\n",
    "Specific\n",
    "- Healthcare profession \n",
    "- Administrative event (e.g. hospitalization)\n",
    "- Care environment\n",
    "- Demographic\n",
    "- Anatomy\n",
    "- Diseases\n",
    "- Symptom\n",
    "- Examination\n",
    "- Measurement unit\n",
    "- Measurement value\n",
    "- Treatment\n",
    "- Medication\n",
    "- Medication Dosage\n",
    "- Medication form (e.g. tablet)\n",
    "- Medication route\n",
    "\n",
    "\n",
    "\n"
   ]
  },
  {
   "cell_type": "markdown",
   "metadata": {},
   "source": [
    "### Apply standard NER classifier of spaCy"
   ]
  },
  {
   "cell_type": "code",
   "execution_count": 5,
   "metadata": {},
   "outputs": [],
   "source": [
    "#literature\n",
    "#available NER Types in spaCy: https://github.com/explosion/spaCy/blob/master/spacy/glossary.py"
   ]
  },
  {
   "cell_type": "code",
   "execution_count": 51,
   "metadata": {},
   "outputs": [],
   "source": [
    "def clean(text):\n",
    "    text = re.sub(r'[\\W]+', ' ', text.lower())\n",
    "    text = text.replace('hadn t' , 'had not')\\\n",
    "               .replace('wasn t', 'was not')\\\n",
    "               .replace('didn t', 'did not')\n",
    "    stop_words  = spacy.lang.en.stop_words.STOP_WORDS        \n",
    "\n",
    "    # Tokenize the text into words\n",
    "    words = text.split()\n",
    "    \n",
    "    # Remove stop words\n",
    "    words = [word for word in words if word not in stop_words]\n",
    "    \n",
    "    # Join the words back into a single string\n",
    "    text = ' '.join(words)\n",
    "    return text\n",
    "\n",
    "def retrieve_NE(text):\n",
    "    doc = nlp(text) \n",
    "    ents = dict((e.text, e.label_) for e in doc.ents)\n",
    "    for key, value in ents.items():\n",
    "        print(f\"\\\"{key}\\\"->{value}, \", end=\"\")\n",
    "    print(\"\")\n",
    "    return doc, ents\n",
    "\n",
    "def get_ground_truth(file_name):\n",
    "    file = open(file_name, \"r\")\n",
    "    annotations = json.load(file)\n",
    "    return annotations['annotations'][0][1]  \n",
    "\n",
    "def print_scores(docs_with_ground_truth):\n",
    "    scorer = Scorer()\n",
    "    scores = scorer.score(docs_with_ground_truth) \n",
    "    entities_precision=scores[\"ents_p\"]\n",
    "    entities_recall=scores[\"ents_r\"]\n",
    "    entities_f1=scores[\"ents_f\"]\n",
    "    entities_per_type=scores[\"ents_per_type\"]\n",
    "    \n",
    "    #print scores\n",
    "    print(f\"Precision: {entities_precision}\")\n",
    "    print(f\"Recall: {entities_recall}\")\n",
    "    print(f\"F1-Score: {entities_f1}\")\n",
    "    print(\"Scores per Entity:\")\n",
    "    for entity, entity_scores in entities_per_type.items():\n",
    "        print(f\"{entity} -> \", end=\"\")\n",
    "        for entity_score, entity_value in entity_scores.items():\n",
    "            print(f\"{entity_score}: {entity_value} \", end=\"\")\n",
    "        print(\"\")"
   ]
  },
  {
   "cell_type": "code",
   "execution_count": 7,
   "metadata": {},
   "outputs": [
    {
     "name": "stdout",
     "output_type": "stream",
     "text": [
      "First 1000 Char of Doc 1 with id: 32519f69-7893-4b1a-868e-2cdca510a2d6: \n",
      "REASON FOR REFERRAL:,  The patient is a 58-year-old African-American right-handed female with 16 years of education who was referred for a neuropsychological evaluation by Dr. X. She is presenting for a second opinion following a recent neuropsychological evaluation that was ordered by her former place of employment that suggested that she was in the \"early stages of a likely dementia\" and was thereafter terminated from her position as a psychiatric nurse.  A comprehensive evaluation was requested to assess current cognitive functioning and assist with diagnostic decisions and treatment planning.  Note that this evaluation was undertaken as a clinical exam and intended for the purposes of aiding with treatment planning.  The patient was fully informed about the nature of this evaluation and intended use of the results.,RELEVANT BACKGROUND INFORMATION:  ,Historical information was obtained from a review of available medical records and clinical interview with the patient.  A summary of \n"
     ]
    }
   ],
   "source": [
    "#get 2 random entry\n",
    "nlp = spacy.load(\"en_core_web_sm\")\n",
    "random_entry_1 = get_random_entry(medical_dataset, seed=1234) # id=32519f69-7893-4b1a-868e-2cdca510a2d6\n",
    "random_entry_2 = get_random_entry(medical_dataset, seed=1294) # id=f759108e-4428-403b-a1cc-c364bb3fc5b9\n",
    "\n",
    "print(\"First 1000 Char of Doc 1 with id: \" + random_entry_1[\"id\"] + \": \")\n",
    "print(random_entry_1[\"text\"][0:1000])"
   ]
  },
  {
   "cell_type": "code",
   "execution_count": 37,
   "metadata": {},
   "outputs": [
    {
     "data": {
      "text/plain": [
       "('CARDINAL',\n",
       " 'DATE',\n",
       " 'EVENT',\n",
       " 'FAC',\n",
       " 'GPE',\n",
       " 'LANGUAGE',\n",
       " 'LAW',\n",
       " 'LOC',\n",
       " 'MONEY',\n",
       " 'NORP',\n",
       " 'ORDINAL',\n",
       " 'ORG',\n",
       " 'PERCENT',\n",
       " 'PERSON',\n",
       " 'PRODUCT',\n",
       " 'QUANTITY',\n",
       " 'TIME',\n",
       " 'WORK_OF_ART')"
      ]
     },
     "execution_count": 37,
     "metadata": {},
     "output_type": "execute_result"
    }
   ],
   "source": [
    "#show ner types of spacy model\n",
    "nlp.get_pipe(\"ner\").labels"
   ]
  },
  {
   "cell_type": "code",
   "execution_count": null,
   "metadata": {},
   "outputs": [],
   "source": [
    "! pip install scispacy\n",
    "! pip install https://s3-us-west-2.amazonaws.com/ai2-s2-scispacy/releases/v0.5.3/en_core_sci_sm-0.5.3.tar.gz\n"
   ]
  },
  {
   "cell_type": "code",
   "execution_count": 52,
   "metadata": {},
   "outputs": [],
   "source": [
    "#prepocess the text -> TODO: if we do this, then the annotations no longer match\n",
    "cleaned_text_1 = random_entry_1.copy()\n",
    "cleaned_text_1[\"text\"] = clean(random_entry_1[\"text\"])\n",
    "cleaned_text_2 = random_entry_2.copy()\n",
    "cleaned_text_2[\"text\"] = clean(random_entry_2[\"text\"])\n",
    "\n"
   ]
  },
  {
   "cell_type": "code",
   "execution_count": 53,
   "metadata": {},
   "outputs": [
    {
     "data": {
      "text/plain": [
       "'preoperative diagnosis persistent abnormal uterine bleeding endometrial ablation postoperative diagnosis persistent abnormal uterine bleeding endometrial ablation procedure performed total abdominal hysterectomy tah right salpingo oophorectomy complications estimated blood loss 250 cc fluids 1500 cc crystalloids urine 125 cc clear urine end procedure findings exam anesthesia obese female enlarged fibroid uterus freely movable pelvis operative findings demonstrated normal appearing tubes bilaterally right ovary contained right ovarian cyst left ovary appeared normal limits peritoneal surfaces noted normal limits bowel noted normal limits indications procedure patient 44 year old female endometrial ablation showed submucosal fibroids history anemia iron therapy started having bleeding weeks ago intermittent bouts flooding desired permanent definitive therapy felt appropriate patient total abdominal hysterectomy uterus cervix right tube ovary sent pathology review procedure informed consent obtained questions answered patient s satisfaction layman s term taken operating room general anesthesia obtained difficulty examined anesthesia noted findings placed dorsal supine position prepped draped usual sterile fashion pfannenstiel skin incision knife carried underlying layer fascia second knife fascia excised midline extended laterally mayo scissors superior aspect fascial incision tented ochsner clamps underlying rectus muscle dissected sharply bluntly attention turned inferior aspect fascial incision similar fashion tented underlying rectus muscle dissected sharply bluntly rectus muscle separated midline peritoneum identified entered bluntly digitally peritoneal incision extended superior inferiorly excellent visualization bladder gyn balfour placed lahey clamp placed fundus uterus pull uterus operative field bowel packed away moist laparotomy sponges attention turned round ligaments bilaterally tented allis clamps hemostat poked avascular portion underneath round ligament o tie passed tied round ligament transected suture ligated noted hemostatic round ligaments skeletonized create window broad ligament right infundibulopelvic ligament isolated window created round ligaments infundibular ligament right loop tied doubly clamped straight ochsner clamps transected suture ligated 0 vicryl heaney stitch fashion noted hemostatic attention turned left uterovarian vessel isolated tied o tie doubly clamped straight ochsner clamps transected suture ligated 0 vicryl heaney stitch fashion noted hemostatic vesicouterine peritoneum identified tented allis clamps bladder flap created sharply russian metzenbaum scissors bladder deflected underlying cervix blunt dissection moist ray tec sponge level cervix uterine vessels skeletonized bilaterally clamped straight ochsner clamps transected suture ligated noted hemostatic similar fashion broad ligament level caudal ligament uterosacral ligaments clamped curved ochsner clamps transected suture ligated noted hemostatic second lahey clamp placed cervix cervix tented pubocervical vesical fascia transected long knife vagina entered double pointed scissors poked protecting posteriorly large malleable cuff outlined vaginal cuff grasped ochsner clamp cervix uterus right tube ovary transected jorgenson scissors cuff outlined ochsner clamps cuff painted betadine soaked ray tec sponge sponge placed vagina vaginal cuff closed 0 vicryl running locked fashion holding beginning end right incorporating ipsilateral cardinal ligaments cuff angles long allis grasp mid portion cuff 0 vicryl figure stitch placed mid portion cuff tied time abdomen copiously irrigated warm normal saline noted hemostatic suture close cuff come posterior peritoneum grabbing uterosacral ligaments mid portion cuff tied bring cuff close right round ligament pulled cuff tied 0 vicryl figure stitch middle cuff left round ligament small reach cuff abdomen copiously irrigated warm normal saline noted hemostatic peritoneum peritonealized 3 0 vicryl running fashion gyn balfour packing sponges removed abdomen abdomen copiously irrigated cuff incision sites reinspected noted hemostatic ______ placed hollow sacrum omentum pulled bowel peritoneum closed 3 0 vicryl running fashion fascia closed 0 vicryl running fashion skin closed staples dressing applied patient examined end procedure betadine soaked sponge removed vagina cuff noted intact bleeding patient tolerated procedure sponge lap needle counts correct x2 taken recovery stable condition patient followed hospital stay'"
      ]
     },
     "execution_count": 53,
     "metadata": {},
     "output_type": "execute_result"
    }
   ],
   "source": [
    "cleaned_text_2[\"text\"] \n"
   ]
  },
  {
   "cell_type": "code",
   "execution_count": 57,
   "metadata": {},
   "outputs": [
    {
     "name": "stdout",
     "output_type": "stream",
     "text": [
      "Found NE for Doc 1:\n",
      "\"REASON FOR REFERRAL\"->ORG, \"58-year-old\"->DATE, \"African-American\"->NORP, \"16 years\"->DATE, \"X.\"->PERSON, \"second\"->ORDINAL, \"Hospital Center\"->ORG, \"four years\"->DATE, \"September 2009\"->DATE, \"three\"->CARDINAL, \"90 days\"->DATE, \"State Services\"->ORG, \"these 90 days\"->DATE, \"the end of November\"->DATE, \"one\"->CARDINAL, \"any days\"->DATE, \"workdays\"->DATE, \"September 2008\"->DATE, \"two sick days\"->DATE, \"July of this year\"->DATE, \"Y\"->PERSON, \"Ph.D.\"->WORK_OF_ART, \"Comprehensive Independent Medical Evaluation\"->ORG, \"08/27/2009\"->DATE, \"Henry Fein\"->PERSON, \"09/23/2009\"->FAC, \",CURRENT FUNCTIONING\"->PERSON, \"daily\"->DATE, \"1991\"->DATE, \"approximately five\"->CARDINAL, \"the past year\"->DATE, \"X\"->PERSON, \"04/02/2009\"->DATE, \"C7\"->PRODUCT, \"C6-C7\"->PRODUCT, \"1976\"->DATE, \"1974\"->DATE, \"2007\"->DATE, \"approximately seven\"->CARDINAL, \",CURRENT MEDICATIONS\"->PERSON, \"NovoLog\"->GPE, \"Topamax\"->ORG, \"Lortab\"->ORG, \"Naprosyn\"->ORG, \"two to four\"->CARDINAL, \"North Carolina\"->GPE, \"sixth\"->ORDINAL, \"nine\"->CARDINAL, \"third\"->ORDINAL, \"60\"->CARDINAL, \"93 years old\"->DATE, \"fourth\"->ORDINAL, \"a Bachelor of Science in Nursing through State University\"->ORG, \"1979\"->DATE, \"two years\"->DATE, \"1980\"->DATE, \"two\"->CARDINAL, \"ages 43\"->DATE, \"30\"->CARDINAL, \"New York\"->GPE, \"2-1/2 years\"->DATE, \"Walter P. Carter Center\"->PERSON, \"21 years\"->DATE, \"OB\"->ORG, \"between 1991 and 1997\"->DATE, \",TASKS ADMINISTERED:,Clinical Interview,Adult History Questionnaire\"->ORG, \"Wechsler Test\"->PERSON, \"Neurobehavioral Cognitive Status Examination\"->ORG, \"Consonant Trigrams\"->QUANTITY, \"Second Edition\"->ORG, \"Token Test\"->PERSON, \"Controlled Oral Word Association\"->ORG, \n",
      "Found NE for Doc 2:\n",
      "\"TAH\"->ORG, \"250 cc\"->QUANTITY, \"1500 cc\"->QUANTITY, \"125 cc\"->QUANTITY, \"44-year-old\"->DATE, \"May\"->DATE, \"three weeks ago\"->DATE, \"Pfannenstiel\"->ORG, \"first\"->ORDINAL, \"second\"->ORDINAL, \"Mayo\"->ORG, \"Ochsner\"->PERSON, \"Lahey\"->PERSON, \"Allis\"->PERSON, \"#0 Vicryl\"->MONEY, \"Heaney\"->PERSON, \"uterovarian\"->ORG, \"Russian\"->NORP, \"Metzenbaum\"->ORG, \"Ray-Tec\"->PERSON, \"Jorgenson\"->PERSON, \"Betadine\"->ORG, \"#0\"->MONEY, \"#3-0 Vicryl\"->MONEY, \n"
     ]
    }
   ],
   "source": [
    "#Retrieve NE \n",
    "print(\"Found NE for Doc 1:\")\n",
    "doc1, ents_1 = retrieve_NE(random_entry_1[\"text\"])\n",
    "print(\"Found NE for Doc 2:\")\n",
    "doc2, ents_2 = retrieve_NE(random_entry_2[\"text\"])"
   ]
  },
  {
   "cell_type": "code",
   "execution_count": 55,
   "metadata": {},
   "outputs": [],
   "source": [
    "#Get ground truth from annotations which were manually labelled with https://tecoholic.github.io/ner-annotator/\n",
    "ground_truth_1 = get_ground_truth(\"annotations_1.json\")\n",
    "ground_truth_2 = get_ground_truth(\"annotations_2.json\")"
   ]
  },
  {
   "cell_type": "code",
   "execution_count": 58,
   "metadata": {},
   "outputs": [
    {
     "name": "stdout",
     "output_type": "stream",
     "text": [
      "Scores:\n",
      "Precision: 0.2892561983471074\n",
      "Recall: 0.3153153153153153\n",
      "F1-Score: 0.3017241379310345\n",
      "Scores per Entity:\n",
      "ORG -> p: 0.0 r: 0.0 f: 0.0 \n",
      "DATE -> p: 0.48484848484848486 r: 0.7619047619047619 f: 0.5925925925925926 \n",
      "NORP -> p: 0.0 r: 0.0 f: 0.0 \n",
      "PERSON -> p: 0.11538461538461539 r: 0.6 f: 0.1935483870967742 \n",
      "ORDINAL -> p: 1.0 r: 0.26666666666666666 f: 0.4210526315789474 \n",
      "CARDINAL -> p: 0.5833333333333334 r: 0.5384615384615384 f: 0.5599999999999999 \n",
      "WORK_OF_ART -> p: 0.0 r: 0.0 f: 0.0 \n",
      "FAC -> p: 0.0 r: 0.0 f: 0.0 \n",
      "PRODUCT -> p: 0.0 r: 0.0 f: 0.0 \n",
      "GPE -> p: 0.0 r: 0.0 f: 0.0 \n",
      "QUANTITY -> p: 0.25 r: 0.16666666666666666 f: 0.2 \n",
      "TIME -> p: 0.0 r: 0.0 f: 0.0 \n",
      "MONEY -> p: 0.0 r: 0.0 f: 0.0 \n"
     ]
    }
   ],
   "source": [
    "#Calculcate scores\n",
    "docs_with_ground_truth = [Example.from_dict(doc1, ground_truth_1), Example.from_dict(doc2, ground_truth_2)]\n",
    "print(\"Scores:\")\n",
    "print_scores(docs_with_ground_truth) "
   ]
  },
  {
   "cell_type": "code",
   "execution_count": 59,
   "metadata": {},
   "outputs": [
    {
     "name": "stdout",
     "output_type": "stream",
     "text": [
      "Found NE for Doc 1:\n",
      "\"REASON FOR REFERRAL\"->ORG, \"58-year-old\"->DATE, \"African-American\"->NORP, \"16 years\"->DATE, \"X.\"->PERSON, \"second\"->ORDINAL, \"Hospital Center\"->ORG, \"four years\"->DATE, \"September 2009\"->DATE, \"three\"->CARDINAL, \"90 days\"->DATE, \"State Services\"->ORG, \"these 90 days\"->DATE, \"the end of November\"->DATE, \"one\"->CARDINAL, \"any days\"->DATE, \"workdays\"->DATE, \"September 2008\"->DATE, \"two sick days\"->DATE, \"July of this year\"->DATE, \"Y\"->PERSON, \"Ph.D.\"->WORK_OF_ART, \"Comprehensive Independent Medical Evaluation\"->ORG, \"08/27/2009\"->DATE, \"Henry Fein\"->PERSON, \"09/23/2009\"->FAC, \",CURRENT FUNCTIONING\"->PERSON, \"daily\"->DATE, \"1991\"->DATE, \"approximately five\"->CARDINAL, \"the past year\"->DATE, \"X\"->PERSON, \"04/02/2009\"->DATE, \"C7\"->PRODUCT, \"C6-C7\"->PRODUCT, \"1976\"->DATE, \"1974\"->DATE, \"2007\"->DATE, \"approximately seven\"->CARDINAL, \",CURRENT MEDICATIONS\"->PERSON, \"NovoLog\"->GPE, \"Topamax\"->ORG, \"Lortab\"->ORG, \"Naprosyn\"->ORG, \"two to four\"->CARDINAL, \"North Carolina\"->GPE, \"sixth\"->ORDINAL, \"nine\"->CARDINAL, \"third\"->ORDINAL, \"60\"->CARDINAL, \"93 years old\"->DATE, \"fourth\"->ORDINAL, \"a Bachelor of Science in Nursing through State University\"->ORG, \"1979\"->DATE, \"two years\"->DATE, \"1980\"->DATE, \"two\"->CARDINAL, \"ages 43\"->DATE, \"30\"->CARDINAL, \"New York\"->GPE, \"2-1/2 years\"->DATE, \"Walter P. Carter Center\"->PERSON, \"21 years\"->DATE, \"OB\"->ORG, \"between 1991 and 1997\"->DATE, \",TASKS ADMINISTERED:,Clinical Interview,Adult History Questionnaire\"->ORG, \"Wechsler Test\"->PERSON, \"Neurobehavioral Cognitive Status Examination\"->ORG, \"Consonant Trigrams\"->QUANTITY, \"Second Edition\"->ORG, \"Token Test\"->PERSON, \"Controlled Oral Word Association\"->ORG, \n",
      "Found NE for Doc 2:\n",
      "\"TAH\"->ORG, \"250 cc\"->QUANTITY, \"1500 cc\"->QUANTITY, \"125 cc\"->QUANTITY, \"44-year-old\"->DATE, \"May\"->DATE, \"three weeks ago\"->DATE, \"Pfannenstiel\"->ORG, \"first\"->ORDINAL, \"second\"->ORDINAL, \"Mayo\"->ORG, \"Ochsner\"->PERSON, \"Lahey\"->PERSON, \"Allis\"->PERSON, \"#0 Vicryl\"->MONEY, \"Heaney\"->PERSON, \"uterovarian\"->ORG, \"Russian\"->NORP, \"Metzenbaum\"->ORG, \"Ray-Tec\"->PERSON, \"Jorgenson\"->PERSON, \"Betadine\"->ORG, \"#0\"->MONEY, \"#3-0 Vicryl\"->MONEY, \n",
      "Scores with extended annotations:\n"
     ]
    },
    {
     "name": "stderr",
     "output_type": "stream",
     "text": [
      "c:\\Users\\Mena Lerf\\anaconda3\\envs\\nlp\\Lib\\site-packages\\spacy\\training\\iob_utils.py:149: UserWarning: [W030] Some entities could not be aligned in the text \"REASON FOR REFERRAL:,  The patient is a 58-year-ol...\" with entities \"[[40, 51, 'DATE'], [94, 102, 'DATE'], [139, 168, '...\". Use `spacy.training.offsets_to_biluo_tags(nlp.make_doc(text), entities)` to check the alignment. Misaligned entities ('-') will be ignored during training.\n",
      "  warnings.warn(\n",
      "c:\\Users\\Mena Lerf\\anaconda3\\envs\\nlp\\Lib\\site-packages\\spacy\\training\\iob_utils.py:149: UserWarning: [W030] Some entities could not be aligned in the text \"PREOPERATIVE DIAGNOSIS:  ,Persistent abnormal uter...\" with entities \"[[46, 62, 'SYMPTOM'], [69, 89, 'MEDICAL_PROCEDURE'...\". Use `spacy.training.offsets_to_biluo_tags(nlp.make_doc(text), entities)` to check the alignment. Misaligned entities ('-') will be ignored during training.\n",
      "  warnings.warn(\n"
     ]
    },
    {
     "name": "stdout",
     "output_type": "stream",
     "text": [
      "Precision: 0.3017241379310345\n",
      "Recall: 0.12773722627737227\n",
      "F1-Score: 0.1794871794871795\n",
      "Scores per Entity:\n",
      "ORG -> p: 0.0 r: 0.0 f: 0.0 \n",
      "DATE -> p: 0.48484848484848486 r: 0.7619047619047619 f: 0.5925925925925926 \n",
      "NORP -> p: 0.0 r: 0.0 f: 0.0 \n",
      "PERSON -> p: 0.12 r: 0.6 f: 0.19999999999999998 \n",
      "ORDINAL -> p: 1.0 r: 0.26666666666666666 f: 0.4210526315789474 \n",
      "CARDINAL -> p: 0.5833333333333334 r: 0.5384615384615384 f: 0.5599999999999999 \n",
      "WORK_OF_ART -> p: 0.0 r: 0.0 f: 0.0 \n",
      "FAC -> p: 0.0 r: 0.0 f: 0.0 \n",
      "PRODUCT -> p: 0.0 r: 0.0 f: 0.0 \n",
      "GPE -> p: 0.0 r: 0.0 f: 0.0 \n",
      "QUANTITY -> p: 0.3333333333333333 r: 0.16666666666666666 f: 0.2222222222222222 \n",
      "MEDICAL_CONDITION -> p: 0.0 r: 0.0 f: 0.0 \n",
      "MEDICAL_PROCEDURE -> p: 0.0 r: 0.0 f: 0.0 \n",
      "SYMPTOM -> p: 0.0 r: 0.0 f: 0.0 \n",
      "ANATOMY -> p: 0.0 r: 0.0 f: 0.0 \n",
      "TIME -> p: 0.0 r: 0.0 f: 0.0 \n",
      "MONEY -> p: 0.0 r: 0.0 f: 0.0 \n"
     ]
    }
   ],
   "source": [
    "##do the same using the extended annotations -> TODO: we have 4 new annotations SYMPTOM, MEDICAL_CONDITION, MEDICAL_PROCEDURE, ANATOMY\n",
    "#however, we don't have a model that is trained with these NER types. -> we need another model\n",
    "# can use a model from scispacy, which are trained on medical data. However, then our NER types are different from the ones used for the scispacy model. \n",
    "#Retrieve NE \n",
    "print(\"Found NE for Doc 1:\")\n",
    "doc1, ents_1 = retrieve_NE(random_entry_1[\"text\"])\n",
    "print(\"Found NE for Doc 2:\")\n",
    "doc2, ents_2 = retrieve_NE(random_entry_2[\"text\"])\n",
    "ground_truth_1_ext = get_ground_truth(\"annotations_1_extended_full.json\")\n",
    "ground_truth_2_ext = get_ground_truth(\"annotations_2_extended_full.json\")\n",
    "docs_with_ground_truth = [Example.from_dict(doc1, ground_truth_1_ext), Example.from_dict(doc2, ground_truth_2_ext)]\n",
    "print(\"Scores with extended annotations:\")\n",
    "print_scores(docs_with_ground_truth)"
   ]
  },
  {
   "cell_type": "code",
   "execution_count": null,
   "metadata": {},
   "outputs": [],
   "source": [
    "spacy.training.offsets_to_biluo_tags(doc2, ground_truth_2_ext[\"entities\"])\n"
   ]
  },
  {
   "cell_type": "code",
   "execution_count": 12,
   "metadata": {},
   "outputs": [],
   "source": [
    "#playground vinz"
   ]
  },
  {
   "cell_type": "code",
   "execution_count": 13,
   "metadata": {},
   "outputs": [
    {
     "data": {
      "text/plain": [
       "58-year-old"
      ]
     },
     "execution_count": 13,
     "metadata": {},
     "output_type": "execute_result"
    }
   ],
   "source": [
    "doc1.char_span(40, 51, label=\"PERS\")"
   ]
  },
  {
   "cell_type": "code",
   "execution_count": 14,
   "metadata": {},
   "outputs": [],
   "source": [
    "list=[]\n",
    "for ent in doc1.ents:\n",
    "    list.append([ent.start_char, ent.end_char, ent.label_]) \n",
    "\n",
    "\n",
    "#spacy.training.offsets_to_biluo_tags(doc1, list)"
   ]
  },
  {
   "cell_type": "code",
   "execution_count": 15,
   "metadata": {},
   "outputs": [
    {
     "data": {
      "text/plain": [
       "{'entities': [[40, 51, 'DATE'],\n",
       "  [94, 102, 'DATE'],\n",
       "  [176, 178, 'PERSON'],\n",
       "  [203, 209, 'ORDINAL'],\n",
       "  [1236, 1246, 'ORDINAL'],\n",
       "  [1289, 1303, 'DATE'],\n",
       "  [1504, 1509, 'CARDINAL'],\n",
       "  [1578, 1585, 'DATE'],\n",
       "  [1722, 1736, 'ORDINAL'],\n",
       "  [1759, 1766, 'DATE'],\n",
       "  [1785, 1800, 'ORDINAL'],\n",
       "  [2065, 2068, 'CARDINAL'],\n",
       "  [2116, 2124, 'DATE'],\n",
       "  [2288, 2289, 'ORDINAL'],\n",
       "  [2421, 2435, 'DATE'],\n",
       "  [2450, 2463, 'DATE'],\n",
       "  [2557, 2574, 'DATE'],\n",
       "  [2888, 2889, 'PERSON'],\n",
       "  [2961, 2971, 'ORDINAL'],\n",
       "  [2991, 3001, 'DATE'],\n",
       "  [4513, 4523, 'PERSON'],\n",
       "  [4555, 4556, 'PERSON'],\n",
       "  [4563, 4569, 'ORDINAL'],\n",
       "  [4645, 4655, 'DATE'],\n",
       "  [4694, 4699, 'CARDINAL'],\n",
       "  [4739, 4755, 'QUANTITY'],\n",
       "  [5023, 5033, 'DATE'],\n",
       "  [6670, 6674, 'DATE'],\n",
       "  [6832, 6842, 'CARDINAL'],\n",
       "  [6843, 6863, 'ORDINAL'],\n",
       "  [6995, 6998, 'PERSON'],\n",
       "  [7358, 7361, 'CARDINAL'],\n",
       "  [7828, 7838, 'DATE'],\n",
       "  [8003, 8013, 'DATE'],\n",
       "  [8204, 8208, 'ORDINAL'],\n",
       "  [8467, 8471, 'DATE'],\n",
       "  [8498, 8502, 'ORDINAL'],\n",
       "  [8598, 8602, 'ORDINAL'],\n",
       "  [8691, 8711, 'TIME'],\n",
       "  [8915, 8922, 'PRODUCT'],\n",
       "  [8924, 8936, 'PRODUCT'],\n",
       "  [8938, 8947, 'PRODUCT'],\n",
       "  [8949, 8959, 'PRODUCT'],\n",
       "  [8961, 8971, 'PRODUCT'],\n",
       "  [8973, 8980, 'PRODUCT'],\n",
       "  [8982, 8988, 'PRODUCT'],\n",
       "  [8990, 8998, 'PRODUCT'],\n",
       "  [9000, 9013, 'PRODUCT'],\n",
       "  [9015, 9022, 'PRODUCT'],\n",
       "  [9028, 9037, 'PRODUCT'],\n",
       "  [9039, 9049, 'PRODUCT'],\n",
       "  [9051, 9063, 'PRODUCT'],\n",
       "  [9065, 9073, 'PRODUCT'],\n",
       "  [9075, 9097, 'PRODUCT'],\n",
       "  [9242, 9258, 'QUANTITY'],\n",
       "  [9331, 9345, 'ORDINAL'],\n",
       "  [9360, 9365, 'ORDINAL'],\n",
       "  [9369, 9373, 'CARDINAL'],\n",
       "  [9422, 9427, 'ORDINAL'],\n",
       "  [9446, 9448, 'CARDINAL'],\n",
       "  [9498, 9506, 'DATE'],\n",
       "  [9559, 9565, 'ORDINAL'],\n",
       "  [9881, 9885, 'ORDINAL'],\n",
       "  [10098, 10107, 'ORDINAL'],\n",
       "  [10133, 10137, 'DATE'],\n",
       "  [10199, 10202, 'CARDINAL'],\n",
       "  [10217, 10219, 'CARDINAL'],\n",
       "  [10224, 10226, 'ORDINAL'],\n",
       "  [10250, 10252, 'CARDINAL'],\n",
       "  [10400, 10408, 'ORDINAL'],\n",
       "  [10669, 10679, 'ORDINAL'],\n",
       "  [10751, 10762, 'ORDINAL'],\n",
       "  [10884, 10907, 'ORG'],\n",
       "  [10923, 10931, 'ORDINAL'],\n",
       "  [11016, 11019, 'CARDINAL'],\n",
       "  [11301, 11322, 'DATE'],\n",
       "  [11378, 11384, 'PRODUCT'],\n",
       "  [11426, 11432, 'PRODUCT'],\n",
       "  [12097, 12108, 'ORDINAL'],\n",
       "  [12196, 12201, 'ORDINAL'],\n",
       "  [12256, 12262, 'ORDINAL'],\n",
       "  [12452, 12453, 'CARDINAL'],\n",
       "  [12456, 12457, 'CARDINAL'],\n",
       "  [12553, 12559, 'ORDINAL'],\n",
       "  [12738, 12744, 'ORDINAL']]}"
      ]
     },
     "execution_count": 15,
     "metadata": {},
     "output_type": "execute_result"
    }
   ],
   "source": [
    "\n",
    "ground_truth_1"
   ]
  },
  {
   "cell_type": "code",
   "execution_count": 16,
   "metadata": {
    "scrolled": true
   },
   "outputs": [
    {
     "name": "stdout",
     "output_type": "stream",
     "text": [
      "State Services.\n"
     ]
    }
   ],
   "source": [
    "print(random_entry_1[\"text\"][1722:1737])"
   ]
  },
  {
   "cell_type": "code",
   "execution_count": 17,
   "metadata": {},
   "outputs": [
    {
     "name": "stdout",
     "output_type": "stream",
     "text": [
      "58-year-old\n",
      "16 years\n",
      "X.\n",
      "second\n",
      "four years\n",
      "September 2009\n",
      "three\n",
      "90 days\n",
      "State Services\n",
      "90 days\n",
      "end of November\n",
      "one\n",
      "any days\n",
      ".\n",
      "September 2008\n",
      "two sick days\n",
      "July of this year\n",
      "Y\n",
      "08/14/2009\n",
      "08/27/2009\n",
      "Henry Fein\n",
      "X\n",
      "second\n",
      "09/23/2009\n",
      "20/30\n",
      "one out of three\n",
      "09/14/2009\n",
      "1991\n",
      "five times\n",
      "within the past year\n",
      "X's\n",
      "one\n",
      "04/02/2009\n",
      "06/04/2009\n",
      "1991\n",
      "1976\n",
      "1974\n",
      "2007\n",
      "seven to eight hours\n",
      "NovoLog\n",
      "insulin pump\n",
      "metformin\n",
      "metoprolol\n",
      "amlodipine\n",
      "Topamax\n",
      "Lortab\n",
      "tramadol\n",
      "amitriptyline\n",
      "calcium\n",
      "vitamin D\n",
      "fluoxetine\n",
      "pantoprazole\n",
      "Naprosyn\n",
      "fluticasone propionate\n",
      "two to four cups\n",
      "North Carolina\n",
      "sixth\n",
      "nine\n",
      "third\n",
      "60\n",
      "93 years\n",
      "fourth\n",
      "1979\n",
      "two years\n",
      "1980\n",
      "two\n",
      "43\n",
      "30\n",
      "30\n",
      "New York\n",
      "four years\n",
      "2-1/2 years\n",
      "Walter P. Carter Center\n",
      "21 years\n",
      "two\n",
      "between 1991 and 1997\n",
      "Prozac\n",
      "Prozac\n",
      "2nd Edition\n",
      "Third\n",
      "Fourth\n",
      "2\n",
      "7\n",
      "Second\n",
      "Second\n"
     ]
    }
   ],
   "source": [
    "for ent in ground_truth_1[\"entities\"]: \n",
    "    print(doc1.char_span(ent[0], ent[1], label=\"PERS\"))"
   ]
  },
  {
   "cell_type": "code",
   "execution_count": 18,
   "metadata": {},
   "outputs": [
    {
     "name": "stdout",
     "output_type": "stream",
     "text": [
      "and\n",
      "0None\n",
      "1None\n",
      "2None\n",
      "3None\n",
      "4None\n",
      "5None\n",
      "6None\n",
      "7vitamin\n",
      "8None\n",
      "9None\n",
      "10None\n",
      "11None\n",
      "12None\n",
      "13None\n",
      "14None\n",
      "15None\n",
      "16None\n",
      "17None\n",
      "18None\n",
      "19None\n"
     ]
    }
   ],
   "source": [
    "print(doc1.char_span(9099, 9102, label=\"PERS\") )\n",
    "\n",
    "for i in np.arange(20):\n",
    "    print(str(i) + str(doc1.char_span(9103, 9103+i, label=\"PERS\") ))"
   ]
  },
  {
   "cell_type": "code",
   "execution_count": 19,
   "metadata": {},
   "outputs": [
    {
     "data": {
      "text/plain": [
       "([9103, 9113, 'PRODUCT'],)"
      ]
     },
     "execution_count": 19,
     "metadata": {},
     "output_type": "execute_result"
    }
   ],
   "source": [
    "\n",
    "  [9103, 9113, 'PRODUCT'],"
   ]
  },
  {
   "cell_type": "code",
   "execution_count": 20,
   "metadata": {},
   "outputs": [
    {
     "name": "stdout",
     "output_type": "stream",
     "text": [
      "58-year-old 40 51 DATE\n",
      "African-American 52 68 NORP\n",
      "16 years 94 102 DATE\n",
      "X. 176 178 PERSON\n",
      "second 203 209 ORDINAL\n",
      "Hospital Center 1216 1231 FAC\n",
      "four years 1236 1246 DATE\n",
      "September 2009 1289 1303 DATE\n",
      "hours 1456 1461 TIME\n",
      "three 1504 1509 CARDINAL\n",
      "90 days 1578 1585 DATE\n",
      "State Services 1722 1736 ORG\n",
      "these 90 days 1753 1766 DATE\n",
      "around the end of November 1774 1800 DATE\n",
      "one 2065 2068 CARDINAL\n",
      "days 2120 2124 DATE\n",
      "September 2008 2421 2435 DATE\n",
      "two sick days 2450 2463 DATE\n",
      "July of this year 2557 2574 DATE\n",
      "Y 2888 2889 PERSON\n",
      "Ph.D. 2891 2896 WORK_OF_ART\n",
      "08/14/2009 2961 2971 DATE\n",
      "Henry Fein 4513 4523 ORG\n",
      "M.D. 4525 4529 GPE\n",
      "second 4563 4569 ORDINAL\n",
      "09/23/2009 4645 4655 LAW\n",
      "20/30 4694 4699 CARDINAL\n",
      "one 4739 4742 CARDINAL\n",
      "three 4750 4755 CARDINAL\n",
      "09/14/2009 5023 5033 DATE\n",
      "daily 5732 5737 DATE\n",
      "1991 6670 6674 DATE\n",
      "approximately five 6818 6836 CARDINAL\n",
      "the past year 6850 6863 DATE\n",
      "C7 7890 7892 CARDINAL\n",
      "C6-C7 7966 7971 PRODUCT\n",
      "1991 8204 8208 DATE\n",
      "GERD 8419 8423 ORG\n",
      "1976 8467 8471 DATE\n",
      "1974 8498 8502 DATE\n",
      "2007 8598 8602 DATE\n",
      "seven to eight hours 8691 8711 TIME\n",
      "NovoLog 8915 8922 ORG\n",
      "Topamax, Lortab 8973 8988 WORK_OF_ART\n",
      "Naprosyn 9065 9073 ORG\n",
      "two to four 9242 9253 CARDINAL\n",
      "North Carolina 9331 9345 GPE\n",
      "sixth 9360 9365 ORDINAL\n",
      "nine 9369 9373 CARDINAL\n",
      "third 9422 9427 ORDINAL\n",
      "60 9446 9448 CARDINAL\n",
      "93 years old 9498 9510 DATE\n",
      "fourth 9559 9565 ORDINAL\n",
      "State University 9861 9877 ORG\n",
      "1979 9881 9885 DATE\n",
      "two years 10098 10107 DATE\n",
      "1980 10133 10137 DATE\n",
      "two children ages 43 and 30 10199 10226 DATE\n",
      "30 10250 10252 CARDINAL\n",
      "New York 10400 10408 GPE\n",
      "Hospital Center 10649 10664 FAC\n",
      "four years 10669 10679 DATE\n",
      "2-1/2 years 10751 10762 DATE\n",
      "Walter P. Carter Center 10884 10907 PERSON\n",
      "21 years 10923 10931 DATE\n",
      "two 11016 11019 CARDINAL\n",
      "between 1991 and 1997 11301 11322 DATE\n",
      "Prozac 11378 11384 PERSON\n",
      "Prozac 11426 11432 PERSON\n",
      "Wechsler Test 11859 11872 ORG\n",
      "Mental Status Exam 11902 11920 FAC\n",
      "Repeatable Battery for the Assessment of Neuropsychological Status 11983 12049 WORK_OF_ART\n",
      "Form XX),Mattis Dementia Rating Scale 12058 12095 PERSON\n",
      "2nd Edition 12097 12108 ORG\n",
      "Assessment Battery 12136 12154 PERSON\n",
      "Variables of Attention 12339 12361 ORG\n",
      "Symbol Digit Modalities Test 12483 12511 ORG\n",
      "Second Edition 12553 12567 ORG\n",
      "Token Test 12578 12588 ORG\n",
      "Spelling Test 12660 12673 ORG\n",
      "Boston Naming Test 12718 12736 ORG\n"
     ]
    }
   ],
   "source": [
    "for ent in doc1.ents:\n",
    "    print(ent.text, ent.start_char, ent.end_char, ent.label_)"
   ]
  },
  {
   "cell_type": "code",
   "execution_count": null,
   "metadata": {},
   "outputs": [],
   "source": []
  }
 ],
 "metadata": {
  "kernelspec": {
   "display_name": "Python 3 (ipykernel)",
   "language": "python",
   "name": "python3"
  },
  "language_info": {
   "codemirror_mode": {
    "name": "ipython",
    "version": 3
   },
   "file_extension": ".py",
   "mimetype": "text/x-python",
   "name": "python",
   "nbconvert_exporter": "python",
   "pygments_lexer": "ipython3",
   "version": "3.11.5"
  }
 },
 "nbformat": 4,
 "nbformat_minor": 4
}
