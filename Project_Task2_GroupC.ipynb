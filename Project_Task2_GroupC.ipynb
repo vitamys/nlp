{
 "cells": [
  {
   "cell_type": "code",
   "execution_count": 1,
   "metadata": {},
   "outputs": [],
   "source": [
    "from datasets import load_dataset \n",
    "import numpy as np\n",
    "import spacy\n",
    "from spacy.tokens import Span\n",
    "from spacy.training import Example\n",
    "import json\n",
    "from spacy.scorer import Scorer"
   ]
  },
  {
   "cell_type": "code",
   "execution_count": 2,
   "metadata": {},
   "outputs": [],
   "source": [
    "def get_random_entry(dataset, seed=None):\n",
    "    np.random.seed(seed=seed)\n",
    "    random_entry = int(dataset[\"train\"].num_rows*np.random.random())\n",
    "    return dataset[\"train\"][random_entry]"
   ]
  },
  {
   "cell_type": "markdown",
   "metadata": {},
   "source": [
    "### Identify NER Types"
   ]
  },
  {
   "cell_type": "code",
   "execution_count": 3,
   "metadata": {},
   "outputs": [],
   "source": [
    "medical_dataset = load_dataset(\"argilla/medical-domain\")"
   ]
  },
  {
   "cell_type": "code",
   "execution_count": 4,
   "metadata": {},
   "outputs": [
    {
     "name": "stdout",
     "output_type": "stream",
     "text": [
      "Medical Field:  Surgery\n",
      "PREOPERATIVE DIAGNOSIS: , Hypoxia and increasing pulmonary secretions.,POSTOPERATIVE DIAGNOSIS: , Hypoxia and increasing pulmonary secretions.,OPERATION: , Bronchoscopy.,ANESTHESIA: , Moderate bedside sedation.,COMPLICATIONS:,  None.,FINDINGS:,  Abundant amount of clear thick secretions throughout the main airways.,INDICATIONS:,  The patient is a 43-year-old gentleman who has been in the ICU for several days following resection of small bowel for sequelae of SMV occlusion.  This morning, the patient developed worsening hypoxia with abundant sputum production requiring frequent suctioning from his ET tube.  The patient also had new-appearing atelectasis versus infiltrates in the right lower lobe of his lung on chest x-ray.  Given these findings, it was felt that bronchoscopy could further define source of secretions and send more appropriate specimen for culture if need be.,OPERATION:,  The patient was given additional fentanyl, Versed as well as paralytics for the procedure.  Small bronchoscope was inserted through the ET tube and to the trachea to the level of carina.  There was noted to be thick clear secretions adherent to the trachea walls as well as into the right mainstem bronchus.  Extensive secretions extended down into the secondary airways.  This was lavaged with saline and suctioned dry.  There is no overt specific occlusion of airways, nor was there any purulent-appearing sputum.  The bronchoscope was then advanced into the left mainstem bronchus, and there was noted to be a small amount of similar-appearing secretions which was likewise suctioned and cleaned.  The bronchoscope was removed, and the patient was increased to PEEP of 10 on the ventilator.  Please note that prior to starting bronchoscopy, he was pre oxygenated with 100% O2.  The patient tolerated the procedure well and lavage specimen was sent for gram stain as well as routine culture.\n"
     ]
    }
   ],
   "source": [
    "# Manuel data inspection for NER Types by printing random health records\n",
    "print(\"Medical Field: \" + str(get_random_entry(medical_dataset)[\"prediction\"][0][\"label\"]))\n",
    "print(get_random_entry(medical_dataset)[\"text\"])"
   ]
  },
  {
   "cell_type": "markdown",
   "metadata": {},
   "source": [
    "#### Identified NER Types by manual data inspection\n",
    "General\n",
    "- Person\n",
    "- Organization\n",
    "- Time\n",
    "- Date\n",
    "- Event\n",
    "\n",
    "Specific\n",
    "- Healthcare profession \n",
    "- Administrative event (e.g. hospitalization)\n",
    "- Care environment\n",
    "- Demographic\n",
    "- Anatomy\n",
    "- Diseases\n",
    "- Symptom\n",
    "- Examination\n",
    "- Measurement unit\n",
    "- Measurement value\n",
    "- Treatment\n",
    "- Medication\n",
    "- Medication Dosage\n",
    "- Medication form (e.g. tablet)\n",
    "- Medication route\n",
    "\n",
    "\n",
    "\n"
   ]
  },
  {
   "cell_type": "markdown",
   "metadata": {},
   "source": [
    "### Apply standard NER classifier of spaCy"
   ]
  },
  {
   "cell_type": "code",
   "execution_count": 5,
   "metadata": {},
   "outputs": [],
   "source": [
    "#literature\n",
    "#available NER Types in spaCy: https://github.com/explosion/spaCy/blob/master/spacy/glossary.py"
   ]
  },
  {
   "cell_type": "code",
   "execution_count": null,
   "metadata": {},
   "outputs": [],
   "source": [
    "def retrieve_NE(text):\n",
    "    doc = nlp(text) \n",
    "    ents = dict((e.text, e.label_) for e in doc.ents)\n",
    "    for key, value in ents.items():\n",
    "        print(f\"\\\"{key}\\\"->{value}, \", end=\"\")\n",
    "    print(\"\")\n",
    "    return doc, ents\n",
    "\n",
    "def get_ground_truth(file_name):\n",
    "    file = open(file_name, \"r\")\n",
    "    annotations = json.load(file)\n",
    "    return annotations['annotations'][0][1]  \n",
    "\n",
    "def print_scores(docs_with_ground_truth):\n",
    "    scorer = Scorer()\n",
    "    scores = scorer.score(docs_with_ground_truth) \n",
    "    entities_precision=scores[\"ents_p\"]\n",
    "    entities_recall=scores[\"ents_r\"]\n",
    "    entities_f1=scores[\"ents_f\"]\n",
    "    entities_per_type=scores[\"ents_per_type\"]\n",
    "    \n",
    "    #print scores\n",
    "    print(f\"Precision: {entities_precision}\")\n",
    "    print(f\"Recall: {entities_recall}\")\n",
    "    print(f\"F1-Score: {entities_f1}\")\n",
    "    print(\"Scores per Entity:\")\n",
    "    for entity, entity_scores in entities_per_type.items():\n",
    "        print(f\"{entity} -> \", end=\"\")\n",
    "        for entity_score, entity_value in entity_scores.items():\n",
    "            print(f\"{entity_score}: {entity_value} \", end=\"\")\n",
    "        print(\"\")"
   ]
  },
  {
   "cell_type": "code",
   "execution_count": 6,
   "metadata": {},
   "outputs": [
    {
     "name": "stdout",
     "output_type": "stream",
     "text": [
      "First 1000 Char of Doc 1 with id: 32519f69-7893-4b1a-868e-2cdca510a2d6: \n",
      "REASON FOR REFERRAL:,  The patient is a 58-year-old African-American right-handed female with 16 years of education who was referred for a neuropsychological evaluation by Dr. X. She is presenting for a second opinion following a recent neuropsychological evaluation that was ordered by her former place of employment that suggested that she was in the \"early stages of a likely dementia\" and was thereafter terminated from her position as a psychiatric nurse.  A comprehensive evaluation was requested to assess current cognitive functioning and assist with diagnostic decisions and treatment planning.  Note that this evaluation was undertaken as a clinical exam and intended for the purposes of aiding with treatment planning.  The patient was fully informed about the nature of this evaluation and intended use of the results.,RELEVANT BACKGROUND INFORMATION:  ,Historical information was obtained from a review of available medical records and clinical interview with the patient.  A summary of \n"
     ]
    }
   ],
   "source": [
    "#get 2 random entry\n",
    "nlp = spacy.load(\"en_core_web_sm\")\n",
    "random_entry_1 = get_random_entry(medical_dataset, seed=1234) # id=32519f69-7893-4b1a-868e-2cdca510a2d6\n",
    "random_entry_2 = get_random_entry(medical_dataset, seed=1294) # id=f759108e-4428-403b-a1cc-c364bb3fc5b9\n",
    "\n",
    "print(\"First 1000 Char of Doc 1 with id: \" + random_entry_1[\"id\"] + \": \")\n",
    "print(random_entry_1[\"text\"][0:1000])"
   ]
  },
  {
   "cell_type": "code",
   "execution_count": 7,
   "metadata": {},
   "outputs": [
    {
     "name": "stdout",
     "output_type": "stream",
     "text": [
      "Found NE for Doc 1:\n",
      "\"58-year-old\"->DATE, \"African-American\"->NORP, \"16 years\"->DATE, \"X.\"->PERSON, \"second\"->ORDINAL, \"Hospital Center\"->FAC, \"four years\"->DATE, \"September 2009\"->DATE, \"hours\"->TIME, \"three\"->CARDINAL, \"90 days\"->DATE, \"State Services\"->ORG, \"these 90 days\"->DATE, \"around the end of November\"->DATE, \"one\"->CARDINAL, \"days\"->DATE, \"September 2008\"->DATE, \"two sick days\"->DATE, \"July of this year\"->DATE, \"Y\"->PERSON, \"Ph.D.\"->WORK_OF_ART, \"08/14/2009\"->DATE, \"Henry Fein\"->ORG, \"M.D.\"->GPE, \"09/23/2009\"->LAW, \"20/30\"->CARDINAL, \"09/14/2009\"->DATE, \"daily\"->DATE, \"1991\"->DATE, \"approximately five\"->CARDINAL, \"the past year\"->DATE, \"C7\"->CARDINAL, \"C6-C7\"->PRODUCT, \"GERD\"->ORG, \"1976\"->DATE, \"1974\"->DATE, \"2007\"->DATE, \"seven to eight hours\"->TIME, \"NovoLog\"->ORG, \"Topamax, Lortab\"->WORK_OF_ART, \"Naprosyn\"->ORG, \"two to four\"->CARDINAL, \"North Carolina\"->GPE, \"sixth\"->ORDINAL, \"nine\"->CARDINAL, \"third\"->ORDINAL, \"60\"->CARDINAL, \"93 years old\"->DATE, \"fourth\"->ORDINAL, \"State University\"->ORG, \"1979\"->DATE, \"two years\"->DATE, \"1980\"->DATE, \"two children ages 43 and 30\"->DATE, \"30\"->CARDINAL, \"New York\"->GPE, \"2-1/2 years\"->DATE, \"Walter P. Carter Center\"->PERSON, \"21 years\"->DATE, \"two\"->CARDINAL, \"between 1991 and 1997\"->DATE, \"Prozac\"->PERSON, \"Wechsler Test\"->ORG, \"Mental Status Exam\"->FAC, \"Repeatable Battery for the Assessment of Neuropsychological Status\"->WORK_OF_ART, \"Form XX),Mattis Dementia Rating Scale\"->PERSON, \"2nd Edition\"->ORG, \"Assessment Battery\"->PERSON, \"Variables of Attention\"->ORG, \"Symbol Digit Modalities Test\"->ORG, \"Second Edition\"->ORG, \"Token Test\"->ORG, \"Spelling Test\"->ORG, \"Boston Naming Test\"->ORG, \n",
      "Found NE for Doc 2:\n",
      "\"TAH\"->ORG, \"250\"->CARDINAL, \"1500\"->CARDINAL, \"125\"->CARDINAL, \"anesthesia\"->GPE, \"ovarian\"->CARDINAL, \"44-year-old\"->DATE, \"May\"->DATE, \"three weeks ago\"->DATE, \"Pfannenstiel\"->ORG, \"first\"->ORDINAL, \"second\"->ORDINAL, \"Mayo\"->PERSON, \"Ochsner\"->NORP, \"Lahey\"->PERSON, \"Allis\"->NORP, \"#0 Vicryl\"->MONEY, \"Heaney\"->GPE, \"Ochsner clamps\"->ORG, \"Russian\"->NORP, \"Metzenbaum\"->ORG, \"Ray-Tec\"->PERSON, \"Jorgenson\"->PERSON, \"Betadine\"->ORG, \"#0\"->MONEY, \"Vicryl\"->ORG, \"#3\"->MONEY, \"Sponge\"->NORP, \n"
     ]
    }
   ],
   "source": [
    "#Retrieve NE \n",
    "print(\"Found NE for Doc 1:\")\n",
    "doc1, ents_1 = retrieve_NE(random_entry_1[\"text\"])\n",
    "print(\"Found NE for Doc 2:\")\n",
    "doc2, ents_2 = retrieve_NE(random_entry_2[\"text\"])"
   ]
  },
  {
   "cell_type": "code",
   "execution_count": 8,
   "metadata": {},
   "outputs": [],
   "source": [
    "#Get ground truth from annotations which were manually labelled with https://tecoholic.github.io/ner-annotator/\n",
    "ground_truth_1 = get_ground_truth(\"annotations_1.json\")\n",
    "ground_truth_2 = get_ground_truth(\"annotations_2.json\")"
   ]
  },
  {
   "cell_type": "code",
   "execution_count": 9,
   "metadata": {},
   "outputs": [
    {
     "name": "stdout",
     "output_type": "stream",
     "text": [
      "Scores:\n",
      "Precision: 0.24615384615384617\n",
      "Recall: 0.2882882882882883\n",
      "F1-Score: 0.2655601659751038\n",
      "Scores per Entity:\n",
      "DATE -> p: 0.4375 r: 0.6666666666666666 f: 0.5283018867924528 \n",
      "NORP -> p: 0.0 r: 0.0 f: 0.0 \n",
      "PERSON -> p: 0.14285714285714285 r: 0.4 f: 0.21052631578947364 \n",
      "ORDINAL -> p: 1.0 r: 0.26666666666666666 f: 0.4210526315789474 \n",
      "FAC -> p: 0.0 r: 0.0 f: 0.0 \n",
      "TIME -> p: 0.5 r: 1.0 f: 0.6666666666666666 \n",
      "CARDINAL -> p: 0.4375 r: 0.5384615384615384 f: 0.4827586206896552 \n",
      "ORG -> p: 0.0 r: 0.0 f: 0.0 \n",
      "WORK_OF_ART -> p: 0.0 r: 0.0 f: 0.0 \n",
      "GPE -> p: 0.0 r: 0.0 f: 0.0 \n",
      "LAW -> p: 0.0 r: 0.0 f: 0.0 \n",
      "PRODUCT -> p: 0.0 r: 0.0 f: 0.0 \n",
      "QUANTITY -> p: 0.0 r: 0.0 f: 0.0 \n",
      "MONEY -> p: 0.0 r: 0.0 f: 0.0 \n"
     ]
    }
   ],
   "source": [
    "#Calculcate scores\n",
    "docs_with_ground_truth = [Example.from_dict(doc1, ground_truth_1), Example.from_dict(doc2, ground_truth_2)]\n",
    "print(\"Scores:\")\n",
    "print_scores(docs_with_ground_truth) "
   ]
  },
  {
   "cell_type": "code",
   "execution_count": null,
   "metadata": {},
   "outputs": [],
   "source": []
  },
  {
   "cell_type": "code",
   "execution_count": 10,
   "metadata": {},
   "outputs": [],
   "source": [
    "#playground vinz"
   ]
  },
  {
   "cell_type": "code",
   "execution_count": 11,
   "metadata": {},
   "outputs": [
    {
     "data": {
      "text/plain": [
       "58-year-old"
      ]
     },
     "execution_count": 11,
     "metadata": {},
     "output_type": "execute_result"
    }
   ],
   "source": [
    "doc1.char_span(40, 51, label=\"PERS\")"
   ]
  },
  {
   "cell_type": "code",
   "execution_count": 12,
   "metadata": {},
   "outputs": [],
   "source": [
    "list=[]\n",
    "for ent in doc1.ents:\n",
    "    list.append([ent.start_char, ent.end_char, ent.label_]) \n",
    "\n",
    "\n",
    "#spacy.training.offsets_to_biluo_tags(doc1, list)"
   ]
  },
  {
   "cell_type": "code",
   "execution_count": 13,
   "metadata": {},
   "outputs": [
    {
     "data": {
      "text/plain": [
       "{'entities': [[40, 51, 'DATE'],\n",
       "  [94, 102, 'DATE'],\n",
       "  [176, 178, 'PERSON'],\n",
       "  [203, 209, 'ORDINAL'],\n",
       "  [1236, 1246, 'ORDINAL'],\n",
       "  [1289, 1303, 'DATE'],\n",
       "  [1504, 1509, 'CARDINAL'],\n",
       "  [1578, 1585, 'DATE'],\n",
       "  [1722, 1736, 'ORDINAL'],\n",
       "  [1759, 1766, 'DATE'],\n",
       "  [1785, 1800, 'ORDINAL'],\n",
       "  [2065, 2068, 'CARDINAL'],\n",
       "  [2116, 2124, 'DATE'],\n",
       "  [2288, 2289, 'ORDINAL'],\n",
       "  [2421, 2435, 'DATE'],\n",
       "  [2450, 2463, 'DATE'],\n",
       "  [2557, 2574, 'DATE'],\n",
       "  [2888, 2889, 'PERSON'],\n",
       "  [2961, 2971, 'ORDINAL'],\n",
       "  [2991, 3001, 'DATE'],\n",
       "  [4513, 4523, 'PERSON'],\n",
       "  [4555, 4556, 'PERSON'],\n",
       "  [4563, 4569, 'ORDINAL'],\n",
       "  [4645, 4655, 'DATE'],\n",
       "  [4694, 4699, 'CARDINAL'],\n",
       "  [4739, 4755, 'QUANTITY'],\n",
       "  [5023, 5033, 'DATE'],\n",
       "  [6670, 6674, 'DATE'],\n",
       "  [6832, 6842, 'CARDINAL'],\n",
       "  [6843, 6863, 'ORDINAL'],\n",
       "  [6995, 6998, 'PERSON'],\n",
       "  [7358, 7361, 'CARDINAL'],\n",
       "  [7828, 7838, 'DATE'],\n",
       "  [8003, 8013, 'DATE'],\n",
       "  [8204, 8208, 'ORDINAL'],\n",
       "  [8467, 8471, 'DATE'],\n",
       "  [8498, 8502, 'ORDINAL'],\n",
       "  [8598, 8602, 'ORDINAL'],\n",
       "  [8691, 8711, 'TIME'],\n",
       "  [8915, 8922, 'PRODUCT'],\n",
       "  [8924, 8936, 'PRODUCT'],\n",
       "  [8938, 8947, 'PRODUCT'],\n",
       "  [8949, 8959, 'PRODUCT'],\n",
       "  [8961, 8971, 'PRODUCT'],\n",
       "  [8973, 8980, 'PRODUCT'],\n",
       "  [8982, 8988, 'PRODUCT'],\n",
       "  [8990, 8998, 'PRODUCT'],\n",
       "  [9000, 9013, 'PRODUCT'],\n",
       "  [9015, 9022, 'PRODUCT'],\n",
       "  [9028, 9037, 'PRODUCT'],\n",
       "  [9039, 9049, 'PRODUCT'],\n",
       "  [9051, 9063, 'PRODUCT'],\n",
       "  [9065, 9073, 'PRODUCT'],\n",
       "  [9075, 9097, 'PRODUCT'],\n",
       "  [9242, 9258, 'QUANTITY'],\n",
       "  [9331, 9345, 'ORDINAL'],\n",
       "  [9360, 9365, 'ORDINAL'],\n",
       "  [9369, 9373, 'CARDINAL'],\n",
       "  [9422, 9427, 'ORDINAL'],\n",
       "  [9446, 9448, 'CARDINAL'],\n",
       "  [9498, 9506, 'DATE'],\n",
       "  [9559, 9565, 'ORDINAL'],\n",
       "  [9881, 9885, 'ORDINAL'],\n",
       "  [10098, 10107, 'ORDINAL'],\n",
       "  [10133, 10137, 'DATE'],\n",
       "  [10199, 10202, 'CARDINAL'],\n",
       "  [10217, 10219, 'CARDINAL'],\n",
       "  [10224, 10226, 'ORDINAL'],\n",
       "  [10250, 10252, 'CARDINAL'],\n",
       "  [10400, 10408, 'ORDINAL'],\n",
       "  [10669, 10679, 'ORDINAL'],\n",
       "  [10751, 10762, 'ORDINAL'],\n",
       "  [10884, 10907, 'ORG'],\n",
       "  [10923, 10931, 'ORDINAL'],\n",
       "  [11016, 11019, 'CARDINAL'],\n",
       "  [11301, 11322, 'DATE'],\n",
       "  [11378, 11384, 'PRODUCT'],\n",
       "  [11426, 11432, 'PRODUCT'],\n",
       "  [12097, 12108, 'ORDINAL'],\n",
       "  [12196, 12201, 'ORDINAL'],\n",
       "  [12256, 12262, 'ORDINAL'],\n",
       "  [12452, 12453, 'CARDINAL'],\n",
       "  [12456, 12457, 'CARDINAL'],\n",
       "  [12553, 12559, 'ORDINAL'],\n",
       "  [12738, 12744, 'ORDINAL']]}"
      ]
     },
     "execution_count": 13,
     "metadata": {},
     "output_type": "execute_result"
    }
   ],
   "source": [
    "\n",
    "ground_truth_1"
   ]
  },
  {
   "cell_type": "code",
   "execution_count": 14,
   "metadata": {
    "scrolled": true
   },
   "outputs": [
    {
     "name": "stdout",
     "output_type": "stream",
     "text": [
      "State Services.\n"
     ]
    }
   ],
   "source": [
    "print(random_entry_1[\"text\"][1722:1737])"
   ]
  },
  {
   "cell_type": "code",
   "execution_count": 15,
   "metadata": {},
   "outputs": [
    {
     "name": "stdout",
     "output_type": "stream",
     "text": [
      "58-year-old\n",
      "16 years\n",
      "X.\n",
      "second\n",
      "four years\n",
      "September 2009\n",
      "three\n",
      "90 days\n",
      "State Services\n",
      "90 days\n",
      "end of November\n",
      "one\n",
      "any days\n",
      ".\n",
      "September 2008\n",
      "two sick days\n",
      "July of this year\n",
      "Y\n",
      "08/14/2009\n",
      "08/27/2009\n",
      "Henry Fein\n",
      "X\n",
      "second\n",
      "09/23/2009\n",
      "20/30\n",
      "one out of three\n",
      "09/14/2009\n",
      "1991\n",
      "five times\n",
      "within the past year\n",
      "X's\n",
      "one\n",
      "04/02/2009\n",
      "06/04/2009\n",
      "1991\n",
      "1976\n",
      "1974\n",
      "2007\n",
      "seven to eight hours\n",
      "NovoLog\n",
      "insulin pump\n",
      "metformin\n",
      "metoprolol\n",
      "amlodipine\n",
      "Topamax\n",
      "Lortab\n",
      "tramadol\n",
      "amitriptyline\n",
      "calcium\n",
      "vitamin D\n",
      "fluoxetine\n",
      "pantoprazole\n",
      "Naprosyn\n",
      "fluticasone propionate\n",
      "two to four cups\n",
      "North Carolina\n",
      "sixth\n",
      "nine\n",
      "third\n",
      "60\n",
      "93 years\n",
      "fourth\n",
      "1979\n",
      "two years\n",
      "1980\n",
      "two\n",
      "43\n",
      "30\n",
      "30\n",
      "New York\n",
      "four years\n",
      "2-1/2 years\n",
      "Walter P. Carter Center\n",
      "21 years\n",
      "two\n",
      "between 1991 and 1997\n",
      "Prozac\n",
      "Prozac\n",
      "2nd Edition\n",
      "Third\n",
      "Fourth\n",
      "2\n",
      "7\n",
      "Second\n",
      "Second\n"
     ]
    }
   ],
   "source": [
    "for ent in ground_truth_1[\"entities\"]: \n",
    "    print(doc1.char_span(ent[0], ent[1], label=\"PERS\"))"
   ]
  },
  {
   "cell_type": "code",
   "execution_count": 16,
   "metadata": {},
   "outputs": [
    {
     "name": "stdout",
     "output_type": "stream",
     "text": [
      "and\n",
      "0None\n",
      "1None\n",
      "2None\n",
      "3None\n",
      "4None\n",
      "5None\n",
      "6None\n",
      "7vitamin\n",
      "8None\n",
      "9None\n",
      "10None\n",
      "11None\n",
      "12None\n",
      "13None\n",
      "14None\n",
      "15None\n",
      "16None\n",
      "17None\n",
      "18None\n",
      "19None\n"
     ]
    }
   ],
   "source": [
    "print(doc1.char_span(9099, 9102, label=\"PERS\") )\n",
    "\n",
    "for i in np.arange(20):\n",
    "    print(str(i) + str(doc1.char_span(9103, 9103+i, label=\"PERS\") ))"
   ]
  },
  {
   "cell_type": "code",
   "execution_count": 17,
   "metadata": {},
   "outputs": [
    {
     "data": {
      "text/plain": [
       "([9103, 9113, 'PRODUCT'],)"
      ]
     },
     "execution_count": 17,
     "metadata": {},
     "output_type": "execute_result"
    }
   ],
   "source": [
    "\n",
    "  [9103, 9113, 'PRODUCT'],"
   ]
  },
  {
   "cell_type": "code",
   "execution_count": 18,
   "metadata": {},
   "outputs": [
    {
     "name": "stdout",
     "output_type": "stream",
     "text": [
      "58-year-old 40 51 DATE\n",
      "African-American 52 68 NORP\n",
      "16 years 94 102 DATE\n",
      "X. 176 178 PERSON\n",
      "second 203 209 ORDINAL\n",
      "Hospital Center 1216 1231 FAC\n",
      "four years 1236 1246 DATE\n",
      "September 2009 1289 1303 DATE\n",
      "hours 1456 1461 TIME\n",
      "three 1504 1509 CARDINAL\n",
      "90 days 1578 1585 DATE\n",
      "State Services 1722 1736 ORG\n",
      "these 90 days 1753 1766 DATE\n",
      "around the end of November 1774 1800 DATE\n",
      "one 2065 2068 CARDINAL\n",
      "days 2120 2124 DATE\n",
      "September 2008 2421 2435 DATE\n",
      "two sick days 2450 2463 DATE\n",
      "July of this year 2557 2574 DATE\n",
      "Y 2888 2889 PERSON\n",
      "Ph.D. 2891 2896 WORK_OF_ART\n",
      "08/14/2009 2961 2971 DATE\n",
      "Henry Fein 4513 4523 ORG\n",
      "M.D. 4525 4529 GPE\n",
      "second 4563 4569 ORDINAL\n",
      "09/23/2009 4645 4655 LAW\n",
      "20/30 4694 4699 CARDINAL\n",
      "one 4739 4742 CARDINAL\n",
      "three 4750 4755 CARDINAL\n",
      "09/14/2009 5023 5033 DATE\n",
      "daily 5732 5737 DATE\n",
      "1991 6670 6674 DATE\n",
      "approximately five 6818 6836 CARDINAL\n",
      "the past year 6850 6863 DATE\n",
      "C7 7890 7892 CARDINAL\n",
      "C6-C7 7966 7971 PRODUCT\n",
      "1991 8204 8208 DATE\n",
      "GERD 8419 8423 ORG\n",
      "1976 8467 8471 DATE\n",
      "1974 8498 8502 DATE\n",
      "2007 8598 8602 DATE\n",
      "seven to eight hours 8691 8711 TIME\n",
      "NovoLog 8915 8922 ORG\n",
      "Topamax, Lortab 8973 8988 WORK_OF_ART\n",
      "Naprosyn 9065 9073 ORG\n",
      "two to four 9242 9253 CARDINAL\n",
      "North Carolina 9331 9345 GPE\n",
      "sixth 9360 9365 ORDINAL\n",
      "nine 9369 9373 CARDINAL\n",
      "third 9422 9427 ORDINAL\n",
      "60 9446 9448 CARDINAL\n",
      "93 years old 9498 9510 DATE\n",
      "fourth 9559 9565 ORDINAL\n",
      "State University 9861 9877 ORG\n",
      "1979 9881 9885 DATE\n",
      "two years 10098 10107 DATE\n",
      "1980 10133 10137 DATE\n",
      "two children ages 43 and 30 10199 10226 DATE\n",
      "30 10250 10252 CARDINAL\n",
      "New York 10400 10408 GPE\n",
      "Hospital Center 10649 10664 FAC\n",
      "four years 10669 10679 DATE\n",
      "2-1/2 years 10751 10762 DATE\n",
      "Walter P. Carter Center 10884 10907 PERSON\n",
      "21 years 10923 10931 DATE\n",
      "two 11016 11019 CARDINAL\n",
      "between 1991 and 1997 11301 11322 DATE\n",
      "Prozac 11378 11384 PERSON\n",
      "Prozac 11426 11432 PERSON\n",
      "Wechsler Test 11859 11872 ORG\n",
      "Mental Status Exam 11902 11920 FAC\n",
      "Repeatable Battery for the Assessment of Neuropsychological Status 11983 12049 WORK_OF_ART\n",
      "Form XX),Mattis Dementia Rating Scale 12058 12095 PERSON\n",
      "2nd Edition 12097 12108 ORG\n",
      "Assessment Battery 12136 12154 PERSON\n",
      "Variables of Attention 12339 12361 ORG\n",
      "Symbol Digit Modalities Test 12483 12511 ORG\n",
      "Second Edition 12553 12567 ORG\n",
      "Token Test 12578 12588 ORG\n",
      "Spelling Test 12660 12673 ORG\n",
      "Boston Naming Test 12718 12736 ORG\n"
     ]
    }
   ],
   "source": [
    "for ent in doc1.ents:\n",
    "    print(ent.text, ent.start_char, ent.end_char, ent.label_)"
   ]
  },
  {
   "cell_type": "code",
   "execution_count": null,
   "metadata": {},
   "outputs": [],
   "source": []
  }
 ],
 "metadata": {
  "kernelspec": {
   "display_name": "Python 3 (ipykernel)",
   "language": "python",
   "name": "python3"
  },
  "language_info": {
   "codemirror_mode": {
    "name": "ipython",
    "version": 3
   },
   "file_extension": ".py",
   "mimetype": "text/x-python",
   "name": "python",
   "nbconvert_exporter": "python",
   "pygments_lexer": "ipython3",
   "version": "3.11.6"
  }
 },
 "nbformat": 4,
 "nbformat_minor": 4
}
