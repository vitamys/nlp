{
 "cells": [
  {
   "cell_type": "code",
   "execution_count": 1,
   "metadata": {},
   "outputs": [],
   "source": [
    "from datasets import load_dataset \n",
    "import numpy as np\n",
    "import spacy\n",
    "from spacy.tokens import Span\n",
    "from spacy.training import Example\n",
    "import json\n",
    "from spacy.scorer import Scorer"
   ]
  },
  {
   "cell_type": "code",
   "execution_count": 2,
   "metadata": {},
   "outputs": [],
   "source": [
    "def get_random_entry(dataset, seed=None):\n",
    "    np.random.seed(seed=seed)\n",
    "    random_entry = int(dataset[\"train\"].num_rows*np.random.random())\n",
    "    return dataset[\"train\"][random_entry]"
   ]
  },
  {
   "cell_type": "markdown",
   "metadata": {},
   "source": [
    "### Identify NER Types"
   ]
  },
  {
   "cell_type": "code",
   "execution_count": 3,
   "metadata": {},
   "outputs": [],
   "source": [
    "medical_dataset = load_dataset(\"argilla/medical-domain\")"
   ]
  },
  {
   "cell_type": "code",
   "execution_count": 4,
   "metadata": {},
   "outputs": [
    {
     "name": "stdout",
     "output_type": "stream",
     "text": [
      "Medical Field:  Surgery\n",
      "Assessment for peripheral vestibular function follows:,OTOSCOPY:, showed bilateral intact tympanic membranes with central  Weber test and bilateral positive Rinne.,ROMBERG TEST:, maintained postural stability.,FRENZEL GLASSES EXAMINATION:, no spontaneous, end gaze nystagmus.,HEAD SHAKING:, No provocation nystagmus.,DIX-HALLPIKE:, showed no positional nystagmus excluding benign paroxysmal positional vertigo.,VESTIBULOCULAR REFLEX [HALMAGYI TEST]:, showed corrective saccades giving the impression of decompensated vestibular hypofunction.,IMPRESSION: , The patient was advised to continue her vestibular rehabilitation exercises and the additional medical treatment of betahistine at 24 mg dose bid.  ,PLAN:  ,Planned for  electronystagmography to document the degree of vestibular hypofunction.,\n"
     ]
    }
   ],
   "source": [
    "# Manuel data inspection for NER Types by printing random health records\n",
    "print(\"Medical Field: \" + str(get_random_entry(medical_dataset)[\"prediction\"][0][\"label\"]))\n",
    "print(get_random_entry(medical_dataset)[\"text\"])"
   ]
  },
  {
   "cell_type": "markdown",
   "metadata": {},
   "source": [
    "#### Identified NER Types by manual data inspection\n",
    "General\n",
    "- Person\n",
    "- Organization\n",
    "- Time\n",
    "- Date\n",
    "- Event\n",
    "\n",
    "Specific\n",
    "- Healthcare profession \n",
    "- Administrative event (e.g. hospitalization)\n",
    "- Care environment\n",
    "- Demographic\n",
    "- Anatomy\n",
    "- Diseases\n",
    "- Symptom\n",
    "- Examination\n",
    "- Measurement unit\n",
    "- Measurement value\n",
    "- Treatment\n",
    "- Medication\n",
    "- Medication Dosage\n",
    "- Medication form (e.g. tablet)\n",
    "- Medication route\n",
    "\n",
    "\n",
    "\n"
   ]
  },
  {
   "cell_type": "markdown",
   "metadata": {},
   "source": [
    "### Apply standard NER classifier of spaCy"
   ]
  },
  {
   "cell_type": "code",
   "execution_count": 5,
   "metadata": {},
   "outputs": [],
   "source": [
    "#literature\n",
    "#available NER Types in spaCy: https://github.com/explosion/spaCy/blob/master/spacy/glossary.py"
   ]
  },
  {
   "cell_type": "code",
   "execution_count": 6,
   "metadata": {},
   "outputs": [
    {
     "name": "stdout",
     "output_type": "stream",
     "text": [
      "First 1000 Char of Doc 1 with id: 32519f69-7893-4b1a-868e-2cdca510a2d6: \n",
      "'REASON FOR REFERRAL:,  The patient is a 58-year-old African-American right-handed female with 16 years of education who was referred for a neuropsychological evaluation by Dr. X. She is presenting for a second opinion following a recent neuropsychological evaluation that was ordered by her former place of employment that suggested that she was in the \"early stages of a likely dementia\" and was thereafter terminated from her position as a psychiatric nurse.  A comprehensive evaluation was requested to assess current cognitive functioning and assist with diagnostic decisions and treatment planning.  Note that this evaluation was undertaken as a clinical exam and intended for the purposes of aiding with treatment planning.  The patient was fully informed about the nature of this evaluation and intended use of the results.,RELEVANT BACKGROUND INFORMATION:  ,Historical information was obtained from a review of available medical records and clinical interview with the patient.  A summary of\n"
     ]
    }
   ],
   "source": [
    "#get 2 random entry\n",
    "nlp = spacy.load(\"en_core_web_sm\")\n",
    "random_entry_1 = get_random_entry(medical_dataset, seed=1234) # id=32519f69-7893-4b1a-868e-2cdca510a2d6\n",
    "random_entry_2 = get_random_entry(medical_dataset, seed=1294) # id=f759108e-4428-403b-a1cc-c364bb3fc5b9\n",
    "#annotations were done with an ' character at the beginning, which shifted the annotations by one. \n",
    "random_entry_1[\"text\"] = '\\'' + random_entry_1[\"text\"]\n",
    "\n",
    "print(\"First 1000 Char of Doc 1 with id: \" + random_entry_1[\"id\"] + \": \")\n",
    "print(random_entry_1[\"text\"][0:1000])"
   ]
  },
  {
   "cell_type": "code",
   "execution_count": 7,
   "metadata": {},
   "outputs": [
    {
     "name": "stdout",
     "output_type": "stream",
     "text": [
      "Found NE for Doc 1:\n",
      "\"58-year-old\"->DATE, \"African-American\"->NORP, \"16 years\"->DATE, \"X.\"->PERSON, \"second\"->ORDINAL, \"Hospital Center\"->FAC, \"four years\"->DATE, \"September 2009\"->DATE, \"hours\"->TIME, \"three\"->CARDINAL, \"90 days\"->DATE, \"State Services\"->ORG, \"these 90 days\"->DATE, \"around the end of November\"->DATE, \"one\"->CARDINAL, \"days\"->DATE, \"September 2008\"->DATE, \"two sick days\"->DATE, \"July of this year\"->DATE, \"Y\"->PERSON, \"Ph.D.\"->WORK_OF_ART, \"08/14/2009\"->DATE, \"Henry Fein\"->ORG, \"M.D.\"->GPE, \"09/23/2009\"->LAW, \"20/30\"->CARDINAL, \"09/14/2009\"->DATE, \"daily\"->DATE, \"1991\"->DATE, \"approximately five\"->CARDINAL, \"the past year\"->DATE, \"C7\"->CARDINAL, \"C6-C7\"->PRODUCT, \"GERD\"->ORG, \"1976\"->DATE, \"1974\"->DATE, \"2007\"->DATE, \"seven to eight hours\"->TIME, \"NovoLog\"->ORG, \"Topamax, Lortab\"->WORK_OF_ART, \"Naprosyn\"->ORG, \"two to four\"->CARDINAL, \"North Carolina\"->GPE, \"sixth\"->ORDINAL, \"nine\"->CARDINAL, \"third\"->ORDINAL, \"60\"->CARDINAL, \"93 years old\"->DATE, \"fourth\"->ORDINAL, \"State University\"->ORG, \"1979\"->DATE, \"two years\"->DATE, \"1980\"->DATE, \"two children ages 43 and 30\"->DATE, \"30\"->CARDINAL, \"New York\"->GPE, \"2-1/2 years\"->DATE, \"Walter P. Carter Center\"->PERSON, \"21 years\"->DATE, \"two\"->CARDINAL, \"between 1991 and 1997\"->DATE, \"Prozac\"->PERSON, \"Wechsler Test\"->ORG, \"Mental Status Exam\"->FAC, \"Repeatable Battery for the Assessment of Neuropsychological Status\"->WORK_OF_ART, \"Form XX),Mattis Dementia Rating Scale\"->PERSON, \"2nd Edition\"->ORG, \"Assessment Battery\"->PERSON, \"Variables of Attention\"->ORG, \"Symbol Digit Modalities Test\"->ORG, \"Second Edition\"->ORG, \"Token Test\"->ORG, \"Spelling Test\"->ORG, \"Boston Naming Test\"->ORG, \n",
      "Found NE for Doc 2:\n",
      "\"TAH\"->ORG, \"250\"->CARDINAL, \"1500\"->CARDINAL, \"125\"->CARDINAL, \"anesthesia\"->GPE, \"ovarian\"->CARDINAL, \"44-year-old\"->DATE, \"May\"->DATE, \"three weeks ago\"->DATE, \"Pfannenstiel\"->ORG, \"first\"->ORDINAL, \"second\"->ORDINAL, \"Mayo\"->PERSON, \"Ochsner\"->NORP, \"Lahey\"->PERSON, \"Allis\"->NORP, \"#0 Vicryl\"->MONEY, \"Heaney\"->GPE, \"Ochsner clamps\"->ORG, \"Russian\"->NORP, \"Metzenbaum\"->ORG, \"Ray-Tec\"->PERSON, \"Jorgenson\"->PERSON, \"Betadine\"->ORG, \"#0\"->MONEY, \"Vicryl\"->ORG, \"#3\"->MONEY, \"Sponge\"->NORP, \n"
     ]
    }
   ],
   "source": [
    "#Retrieve NE \n",
    "def retrieve_NE(text):\n",
    "    doc = nlp(text) \n",
    "    ents = dict((e.text, e.label_) for e in doc.ents)\n",
    "    for key, value in ents.items():\n",
    "        print(f\"\\\"{key}\\\"->{value}, \", end=\"\")\n",
    "    \n",
    "    print(\"\")\n",
    "    return doc, ents\n",
    "\n",
    "print(\"Found NE for Doc 1:\")\n",
    "doc1, ents_1 = retrieve_NE(random_entry_1[\"text\"])\n",
    "print(\"Found NE for Doc 2:\")\n",
    "doc2, ents_2 = retrieve_NE(random_entry_2[\"text\"])"
   ]
  },
  {
   "cell_type": "code",
   "execution_count": 8,
   "metadata": {},
   "outputs": [],
   "source": [
    "#Get ground truth from annotations which were manually labelled with https://tecoholic.github.io/ner-annotator/\n",
    "def get_ground_truth(file_name):\n",
    "    file = open(file_name, \"r\")\n",
    "    annotations = json.load(file)\n",
    "    return annotations['annotations'][0][1]  \n",
    "\n",
    "ground_truth_1 = get_ground_truth(\"annotations_1.json\")\n",
    "ground_truth_2 = get_ground_truth(\"annotations_2.json\")"
   ]
  },
  {
   "cell_type": "code",
   "execution_count": 9,
   "metadata": {},
   "outputs": [
    {
     "name": "stdout",
     "output_type": "stream",
     "text": [
      "Scores:\n"
     ]
    },
    {
     "name": "stderr",
     "output_type": "stream",
     "text": [
      "/opt/conda/lib/python3.11/site-packages/spacy/training/iob_utils.py:149: UserWarning: [W030] Some entities could not be aligned in the text \"'REASON FOR REFERRAL:,  The patient is a 58-year-o...\" with entities \"[[40, 51, 'DATE'], [94, 102, 'DATE'], [176, 178, '...\". Use `spacy.training.offsets_to_biluo_tags(nlp.make_doc(text), entities)` to check the alignment. Misaligned entities ('-') will be ignored during training.\n",
      "  warnings.warn(\n"
     ]
    },
    {
     "name": "stdout",
     "output_type": "stream",
     "text": [
      "Precision: 0.0975609756097561\n",
      "Recall: 0.22857142857142856\n",
      "F1-Score: 0.13675213675213677\n",
      "Scores per Entity:\n",
      "DATE -> p: 0.3333333333333333 r: 0.42857142857142855 f: 0.375 \n",
      "NORP -> p: 0.0 r: 0.0 f: 0.0 \n",
      "PERSON -> p: 0.0 r: 0.0 f: 0.0 \n",
      "ORDINAL -> p: 1.0 r: 1.0 f: 1.0 \n",
      "FAC -> p: 0.0 r: 0.0 f: 0.0 \n",
      "TIME -> p: 0.0 r: 0.0 f: 0.0 \n",
      "CARDINAL -> p: 0.2 r: 1.0 f: 0.33333333333333337 \n",
      "ORG -> p: 0.0 r: 0.0 f: 0.0 \n",
      "WORK_OF_ART -> p: 0.0 r: 0.0 f: 0.0 \n",
      "GPE -> p: 0.0 r: 0.0 f: 0.0 \n",
      "LAW -> p: 0.0 r: 0.0 f: 0.0 \n",
      "PRODUCT -> p: 0.0 r: 0.0 f: 0.0 \n",
      "MONEY -> p: 0.0 r: 0.0 f: 0.0 \n",
      "QUANTITY -> p: 0.0 r: 0.0 f: 0.0 \n"
     ]
    }
   ],
   "source": [
    "#Calculcate scores\n",
    "def print_scores(docs_with_ground_truth):\n",
    "    scorer = Scorer()\n",
    "    scores = scorer.score(docs_with_ground_truth) \n",
    "    entities_precision=scores[\"ents_p\"]\n",
    "    entities_recall=scores[\"ents_r\"]\n",
    "    entities_f1=scores[\"ents_f\"]\n",
    "    entities_per_type=scores[\"ents_per_type\"]\n",
    "    \n",
    "    #print scores\n",
    "    print(f\"Precision: {entities_precision}\")\n",
    "    print(f\"Recall: {entities_recall}\")\n",
    "    print(f\"F1-Score: {entities_f1}\")\n",
    "    print(\"Scores per Entity:\")\n",
    "    for entity, entity_scores in entities_per_type.items():\n",
    "        print(f\"{entity} -> \", end=\"\")\n",
    "        for entity_score, entity_value in entity_scores.items():\n",
    "            print(f\"{entity_score}: {entity_value} \", end=\"\")\n",
    "        print(\"\")\n",
    "\n",
    "#docs_with_ground_truth = [Example.from_dict(doc1, ground_truth_1), Example.from_dict(doc2, ground_truth_2)]\n",
    "docs_with_ground_truth = [Example.from_dict(doc2, ground_truth_2)]\n",
    "\n",
    "print(\"Scores:\")\n",
    "print_scores(docs_with_ground_truth) \n"
   ]
  },
  {
   "cell_type": "code",
   "execution_count": null,
   "metadata": {},
   "outputs": [],
   "source": []
  },
  {
   "cell_type": "code",
   "execution_count": 10,
   "metadata": {},
   "outputs": [],
   "source": [
    "#playground vinz"
   ]
  }
 ],
 "metadata": {
  "kernelspec": {
   "display_name": "Python 3 (ipykernel)",
   "language": "python",
   "name": "python3"
  },
  "language_info": {
   "codemirror_mode": {
    "name": "ipython",
    "version": 3
   },
   "file_extension": ".py",
   "mimetype": "text/x-python",
   "name": "python",
   "nbconvert_exporter": "python",
   "pygments_lexer": "ipython3",
   "version": "3.11.6"
  }
 },
 "nbformat": 4,
 "nbformat_minor": 4
}
