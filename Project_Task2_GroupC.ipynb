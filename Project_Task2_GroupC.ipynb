{
 "cells": [
  {
   "cell_type": "code",
   "execution_count": 1,
   "metadata": {},
   "outputs": [],
   "source": [
    "from datasets import load_dataset \n",
    "import numpy as np\n",
    "import spacy\n",
    "from spacy.tokens import Span\n",
    "from spacy.training import Example\n",
    "import json\n",
    "from spacy.scorer import Scorer"
   ]
  },
  {
   "cell_type": "code",
   "execution_count": 2,
   "metadata": {},
   "outputs": [],
   "source": [
    "def get_random_entry(dataset, seed=None):\n",
    "    np.random.seed(seed=seed)\n",
    "    random_entry = int(dataset[\"train\"].num_rows*np.random.random())\n",
    "    return dataset[\"train\"][random_entry]"
   ]
  },
  {
   "cell_type": "markdown",
   "metadata": {},
   "source": [
    "### Identify NER Types"
   ]
  },
  {
   "cell_type": "code",
   "execution_count": 3,
   "metadata": {},
   "outputs": [
    {
     "data": {
      "application/vnd.jupyter.widget-view+json": {
       "model_id": "fa3823229c2c47018dd03fa1c89b8f40",
       "version_major": 2,
       "version_minor": 0
      },
      "text/plain": [
       "Downloading readme:   0%|          | 0.00/1.71k [00:00<?, ?B/s]"
      ]
     },
     "metadata": {},
     "output_type": "display_data"
    },
    {
     "data": {
      "application/vnd.jupyter.widget-view+json": {
       "model_id": "3218d4ee4b834fb7a81c887e9f0e969a",
       "version_major": 2,
       "version_minor": 0
      },
      "text/plain": [
       "Downloading data files:   0%|          | 0/1 [00:00<?, ?it/s]"
      ]
     },
     "metadata": {},
     "output_type": "display_data"
    },
    {
     "data": {
      "application/vnd.jupyter.widget-view+json": {
       "model_id": "f674407b6e88495bb216f19e1439187e",
       "version_major": 2,
       "version_minor": 0
      },
      "text/plain": [
       "Downloading data:   0%|          | 0.00/14.8M [00:00<?, ?B/s]"
      ]
     },
     "metadata": {},
     "output_type": "display_data"
    },
    {
     "data": {
      "application/vnd.jupyter.widget-view+json": {
       "model_id": "f5e1980d2e1f4592a4468756cc2d8b6c",
       "version_major": 2,
       "version_minor": 0
      },
      "text/plain": [
       "Extracting data files:   0%|          | 0/1 [00:00<?, ?it/s]"
      ]
     },
     "metadata": {},
     "output_type": "display_data"
    },
    {
     "data": {
      "application/vnd.jupyter.widget-view+json": {
       "model_id": "1a8eb7496c7f4912b6d1d01f4b2939c1",
       "version_major": 2,
       "version_minor": 0
      },
      "text/plain": [
       "Generating train split:   0%|          | 0/4966 [00:00<?, ? examples/s]"
      ]
     },
     "metadata": {},
     "output_type": "display_data"
    }
   ],
   "source": [
    "medical_dataset = load_dataset(\"argilla/medical-domain\")"
   ]
  },
  {
   "cell_type": "code",
   "execution_count": 4,
   "metadata": {},
   "outputs": [
    {
     "name": "stdout",
     "output_type": "stream",
     "text": [
      "Medical Field:  Neurology\n",
      "CT HEAD WITHOUT CONTRAST, CT FACIAL BONES WITHOUT CONTRAST, AND CT CERVICAL SPINE WITHOUT CONTRAST,REASON FOR EXAM: , Motor vehicle collision.,CT HEAD,TECHNIQUE: , Noncontrast axial CT images of the head were obtained without contrast.,FINDINGS: , There is no acute intracranial hemorrhage, mass effect, midline shift, or extra-axial fluid collection.  The ventricles and cortical sulci are normal in shape and configuration.  The gray/white matter junctions are well preserved.  No calvarial fracture is seen.,IMPRESSION:  ,Negative for acute intracranial disease.,CT FACIAL BONES WITHOUT CONTRAST,TECHNIQUE:  ,Noncontrast axial CT images of the facial bones were obtained with coronal reconstructions.,FINDINGS:,  There is no facial bone fracture.  The maxilla and mandible are intact.  The visualized paranasal sinuses are clear.  The temporomandibular joints are intact.  The nasal bone is intact.  The orbits are intact.  The extra-ocular muscles and orbital nerves are normal.  The orbital globes are normal.,IMPRESSION: , No evidence for a facial bone fracture.,CT CERVICAL SPINE WITHOUT CONTRAST,TECHNIQUE: , Noncontrast axial CT images of the cervical spine were obtained with sagittal and coronal reconstructions.,FINDINGS: , There is a normal lordosis of the cervical spine, no fracture or subluxation is seen.  The vertebral body heights are normal.  The intervertebral disk spaces are well preserved.  The atlanto-dens interval is normal.  No abnormal anterior cervical soft tissue swelling is seen.  There is no spinal compression deformity.,IMPRESSION: , Negative for a facial bone fracture.\n"
     ]
    }
   ],
   "source": [
    "# Manuel data inspection for NER Types by printing random health records\n",
    "print(\"Medical Field: \" + str(get_random_entry(medical_dataset)[\"prediction\"][0][\"label\"]))\n",
    "print(get_random_entry(medical_dataset)[\"text\"])"
   ]
  },
  {
   "cell_type": "markdown",
   "metadata": {},
   "source": [
    "#### Identified NER Types by manual data inspection\n",
    "General\n",
    "- Person\n",
    "- Organization\n",
    "- Time\n",
    "- Date\n",
    "- Event\n",
    "\n",
    "Specific\n",
    "- Healthcare profession \n",
    "- Administrative event (e.g. hospitalization)\n",
    "- Care environment\n",
    "- Demographic\n",
    "- Anatomy\n",
    "- Diseases\n",
    "- Symptom\n",
    "- Examination\n",
    "- Measurement unit\n",
    "- Measurement value\n",
    "- Treatment\n",
    "- Medication\n",
    "- Medication Dosage\n",
    "- Medication form (e.g. tablet)\n",
    "- Medication route\n",
    "\n",
    "\n",
    "\n"
   ]
  },
  {
   "cell_type": "markdown",
   "metadata": {},
   "source": [
    "### Apply standard NER classifier of spaCy"
   ]
  },
  {
   "cell_type": "code",
   "execution_count": 31,
   "metadata": {},
   "outputs": [],
   "source": [
    "#literature\n",
    "#available NER Types in spaCy: https://github.com/explosion/spaCy/blob/master/spacy/glossary.py"
   ]
  },
  {
   "cell_type": "code",
   "execution_count": null,
   "metadata": {},
   "outputs": [],
   "source": []
  },
  {
   "cell_type": "code",
   "execution_count": null,
   "metadata": {},
   "outputs": [],
   "source": []
  },
  {
   "cell_type": "code",
   "execution_count": 32,
   "metadata": {},
   "outputs": [
    {
     "name": "stdout",
     "output_type": "stream",
     "text": [
      "First 1000 Char of Entry with id: 32519f69-7893-4b1a-868e-2cdca510a2d6: \n",
      "'REASON FOR REFERRAL:,  The patient is a 58-year-old African-American right-handed female with 16 years of education who was referred for a neuropsychological evaluation by Dr. X. She is presenting for a second opinion following a recent neuropsychological evaluation that was ordered by her former place of employment that suggested that she was in the \"early stages of a likely dementia\" and was thereafter terminated from her position as a psychiatric nurse.  A comprehensive evaluation was requested to assess current cognitive functioning and assist with diagnostic decisions and treatment planning.  Note that this evaluation was undertaken as a clinical exam and intended for the purposes of aiding with treatment planning.  The patient was fully informed about the nature of this evaluation and intended use of the results.,RELEVANT BACKGROUND INFORMATION:  ,Historical information was obtained from a review of available medical records and clinical interview with the patient.  A summary of\n"
     ]
    }
   ],
   "source": [
    "#get random entry\n",
    "nlp = spacy.load(\"en_core_web_sm\")\n",
    "random_entry = get_random_entry(medical_dataset, seed=1234) # id=32519f69-7893-4b1a-868e-2cdca510a2d6\n",
    "#annotations were done with an ' character at the beginning, which shifted the annotations by one. \n",
    "random_entry[\"text\"] = '\\'' + random_entry[\"text\"]\n",
    "\n",
    "print(\"First 1000 Char of Entry with id: \" + random_entry[\"id\"] + \": \")\n",
    "print(random_entry[\"text\"][0:1000])"
   ]
  },
  {
   "cell_type": "code",
   "execution_count": 33,
   "metadata": {},
   "outputs": [
    {
     "name": "stdout",
     "output_type": "stream",
     "text": [
      "Found NE:\n",
      "\"58-year-old\"->DATE, \n",
      "\"African-American\"->NORP, \n",
      "\"16 years\"->DATE, \n",
      "\"X.\"->PERSON, \n",
      "\"second\"->ORDINAL, \n",
      "\"Hospital Center\"->FAC, \n",
      "\"four years\"->DATE, \n",
      "\"September 2009\"->DATE, \n",
      "\"hours\"->TIME, \n",
      "\"three\"->CARDINAL, \n",
      "\"90 days\"->DATE, \n",
      "\"State Services\"->ORG, \n",
      "\"these 90 days\"->DATE, \n",
      "\"around the end of November\"->DATE, \n",
      "\"one\"->CARDINAL, \n",
      "\"days\"->DATE, \n",
      "\"September 2008\"->DATE, \n",
      "\"two sick days\"->DATE, \n",
      "\"July of this year\"->DATE, \n",
      "\"Y\"->PERSON, \n",
      "\"Ph.D.\"->WORK_OF_ART, \n",
      "\"08/14/2009\"->DATE, \n",
      "\"Henry Fein\"->ORG, \n",
      "\"M.D.\"->GPE, \n",
      "\"09/23/2009\"->LAW, \n",
      "\"20/30\"->CARDINAL, \n",
      "\"09/14/2009\"->DATE, \n",
      "\"daily\"->DATE, \n",
      "\"1991\"->DATE, \n",
      "\"approximately five\"->CARDINAL, \n",
      "\"the past year\"->DATE, \n",
      "\"C7\"->CARDINAL, \n",
      "\"C6-C7\"->PRODUCT, \n",
      "\"GERD\"->ORG, \n",
      "\"1976\"->DATE, \n",
      "\"1974\"->DATE, \n",
      "\"2007\"->DATE, \n",
      "\"seven to eight hours\"->TIME, \n",
      "\"NovoLog\"->ORG, \n",
      "\"Topamax, Lortab\"->WORK_OF_ART, \n",
      "\"Naprosyn\"->ORG, \n",
      "\"two to four\"->CARDINAL, \n",
      "\"North Carolina\"->GPE, \n",
      "\"sixth\"->ORDINAL, \n",
      "\"nine\"->CARDINAL, \n",
      "\"third\"->ORDINAL, \n",
      "\"60\"->CARDINAL, \n",
      "\"93 years old\"->DATE, \n",
      "\"fourth\"->ORDINAL, \n",
      "\"State University\"->ORG, \n",
      "\"1979\"->DATE, \n",
      "\"two years\"->DATE, \n",
      "\"1980\"->DATE, \n",
      "\"two children ages 43 and 30\"->DATE, \n",
      "\"30\"->CARDINAL, \n",
      "\"New York\"->GPE, \n",
      "\"2-1/2 years\"->DATE, \n",
      "\"Walter P. Carter Center\"->PERSON, \n",
      "\"21 years\"->DATE, \n",
      "\"two\"->CARDINAL, \n",
      "\"between 1991 and 1997\"->DATE, \n",
      "\"Prozac\"->PERSON, \n",
      "\"Wechsler Test\"->ORG, \n",
      "\"Mental Status Exam\"->FAC, \n",
      "\"Repeatable Battery for the Assessment of Neuropsychological Status\"->WORK_OF_ART, \n",
      "\"Form XX),Mattis Dementia Rating Scale\"->PERSON, \n",
      "\"2nd Edition\"->ORG, \n",
      "\"Assessment Battery\"->PERSON, \n",
      "\"Variables of Attention\"->ORG, \n",
      "\"Symbol Digit Modalities Test\"->ORG, \n",
      "\"Second Edition\"->ORG, \n",
      "\"Token Test\"->ORG, \n",
      "\"Spelling Test\"->ORG, \n",
      "\"Boston Naming Test\"->ORG, \n"
     ]
    }
   ],
   "source": [
    "#Retrieve NE \n",
    "doc = nlp(random_entry[\"text\"]) \n",
    "ents = dict((e.text, e.label_) for e in doc.ents)\n",
    "print(\"Found NE:\")\n",
    "for key, value in ents.items():\n",
    "    print(f\"\\\"{key}\\\"->{value}, \")"
   ]
  },
  {
   "cell_type": "code",
   "execution_count": 34,
   "metadata": {},
   "outputs": [],
   "source": [
    "#Get ground truth from annotations which were manually labelled with https://tecoholic.github.io/ner-annotator/\n",
    "file = open(\"annotations.json\", \"r\")\n",
    "annotations = json.load(file)\n",
    "ground_truth = annotations['annotations'][0][1] "
   ]
  },
  {
   "cell_type": "code",
   "execution_count": 35,
   "metadata": {},
   "outputs": [
    {
     "name": "stdout",
     "output_type": "stream",
     "text": [
      "Precision: 0.046511627906976744\n",
      "Recall: 0.6666666666666666\n",
      "F1-Score: 0.08695652173913045\n",
      "Scores per Entity:\n",
      "DATE -> p: 0.1111111111111111 r: 1.0 f: 0.19999999999999998 \n",
      "NORP -> p: 0.0 r: 0.0 f: 0.0 \n",
      "PERSON -> p: 0.14285714285714285 r: 1.0 f: 0.25 \n",
      "ORDINAL -> p: 0.0 r: 0.0 f: 0.0 \n",
      "FAC -> p: 0.0 r: 0.0 f: 0.0 \n",
      "TIME -> p: 0.0 r: 0.0 f: 0.0 \n",
      "CARDINAL -> p: 0.0 r: 0.0 f: 0.0 \n",
      "ORG -> p: 0.0 r: 0.0 f: 0.0 \n",
      "WORK_OF_ART -> p: 0.0 r: 0.0 f: 0.0 \n",
      "GPE -> p: 0.0 r: 0.0 f: 0.0 \n",
      "LAW -> p: 0.0 r: 0.0 f: 0.0 \n",
      "PRODUCT -> p: 0.0 r: 0.0 f: 0.0 \n"
     ]
    }
   ],
   "source": [
    "#Calculcate scores\n",
    "doc_with_ground_truth = Example.from_dict(doc, ground_truth)\n",
    "scorer = Scorer()\n",
    "scores = scorer.score([doc_with_ground_truth])\n",
    "entities_precision=scores[\"ents_p\"]\n",
    "entities_recall=scores[\"ents_r\"]\n",
    "entities_f1=scores[\"ents_f\"]\n",
    "entities_per_type=scores[\"ents_per_type\"]\n",
    "\n",
    "#print scores\n",
    "print(f\"Precision: {entities_precision}\")\n",
    "print(f\"Recall: {entities_recall}\")\n",
    "print(f\"F1-Score: {entities_f1}\")\n",
    "print(\"Scores per Entity:\")\n",
    "for entity, entity_scores in entities_per_type.items():\n",
    "    print(f\"{entity} -> \", end=\"\")\n",
    "    for entity_score, entity_value in entity_scores.items():\n",
    "        print(f\"{entity_score}: {entity_value} \", end=\"\")\n",
    "    print(\"\")"
   ]
  },
  {
   "cell_type": "code",
   "execution_count": null,
   "metadata": {},
   "outputs": [],
   "source": []
  },
  {
   "cell_type": "code",
   "execution_count": null,
   "metadata": {},
   "outputs": [],
   "source": [
    "#playground vinz"
   ]
  },
  {
   "cell_type": "code",
   "execution_count": 6,
   "metadata": {},
   "outputs": [
    {
     "data": {
      "text/plain": [
       "12779"
      ]
     },
     "execution_count": 6,
     "metadata": {},
     "output_type": "execute_result"
    }
   ],
   "source": [
    "len(get_random_entry(medical_dataset, seed=1234)[\"text\"])"
   ]
  },
  {
   "cell_type": "code",
   "execution_count": 15,
   "metadata": {},
   "outputs": [
    {
     "data": {
      "text/plain": [
       "(58-year-old,\n",
       " African-American,\n",
       " 16 years,\n",
       " X.,\n",
       " second,\n",
       " Hospital Center,\n",
       " four years,\n",
       " September 2009,\n",
       " hours,\n",
       " three,\n",
       " 90 days,\n",
       " State Services,\n",
       " these 90 days,\n",
       " around the end of November,\n",
       " one,\n",
       " days,\n",
       " September 2008,\n",
       " two sick days,\n",
       " July of this year,\n",
       " Y,\n",
       " Ph.D.,\n",
       " 08/14/2009,\n",
       " Henry Fein,\n",
       " M.D.,\n",
       " second,\n",
       " 09/23/2009,\n",
       " 20/30,\n",
       " one,\n",
       " three,\n",
       " 09/14/2009,\n",
       " daily,\n",
       " 1991,\n",
       " approximately five,\n",
       " the past year,\n",
       " C7,\n",
       " C6-C7,\n",
       " 1991,\n",
       " GERD,\n",
       " 1976,\n",
       " 1974,\n",
       " 2007,\n",
       " seven to eight hours,\n",
       " NovoLog,\n",
       " Topamax, Lortab,\n",
       " Naprosyn,\n",
       " two to four,\n",
       " North Carolina,\n",
       " sixth,\n",
       " nine,\n",
       " third,\n",
       " 60,\n",
       " 93 years old,\n",
       " fourth,\n",
       " State University,\n",
       " 1979,\n",
       " two years,\n",
       " 1980,\n",
       " two children ages 43 and 30,\n",
       " 30,\n",
       " New York,\n",
       " Hospital Center,\n",
       " four years,\n",
       " 2-1/2 years,\n",
       " Walter P. Carter Center,\n",
       " 21 years,\n",
       " two,\n",
       " between 1991 and 1997,\n",
       " Prozac,\n",
       " Prozac,\n",
       " Wechsler Test,\n",
       " Mental Status Exam,\n",
       " Repeatable Battery for the Assessment of Neuropsychological Status,\n",
       " Form XX),Mattis Dementia Rating Scale,\n",
       " 2nd Edition,\n",
       " Assessment Battery,\n",
       " Variables of Attention,\n",
       " Symbol Digit Modalities Test,\n",
       " Second Edition,\n",
       " Token Test,\n",
       " Spelling Test,\n",
       " Boston Naming Test)"
      ]
     },
     "execution_count": 15,
     "metadata": {},
     "output_type": "execute_result"
    }
   ],
   "source": [
    "doc.ents"
   ]
  },
  {
   "cell_type": "code",
   "execution_count": 38,
   "metadata": {},
   "outputs": [
    {
     "data": {
      "text/plain": [
       "62"
      ]
     },
     "execution_count": 38,
     "metadata": {},
     "output_type": "execute_result"
    }
   ],
   "source": [
    "len(ground_truth[\"entities\"])"
   ]
  }
 ],
 "metadata": {
  "kernelspec": {
   "display_name": "Python 3 (ipykernel)",
   "language": "python",
   "name": "python3"
  },
  "language_info": {
   "codemirror_mode": {
    "name": "ipython",
    "version": 3
   },
   "file_extension": ".py",
   "mimetype": "text/x-python",
   "name": "python",
   "nbconvert_exporter": "python",
   "pygments_lexer": "ipython3",
   "version": "3.11.6"
  }
 },
 "nbformat": 4,
 "nbformat_minor": 4
}
