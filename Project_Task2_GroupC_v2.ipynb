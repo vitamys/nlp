{
 "cells": [
  {
   "cell_type": "code",
   "execution_count": 1,
   "metadata": {},
   "outputs": [],
   "source": [
    "from datasets import load_dataset\n",
    "import pandas as pd\n",
    "import huggingface_hub\n",
    "import matplotlib.pyplot as plt\n",
    "import numpy as np\n",
    "import spacy\n",
    "import nltk\n",
    "from nltk.tokenize import word_tokenize\n",
    "from nltk.corpus import stopwords\n",
    "from nltk.stem import WordNetLemmatizer\n",
    "from spacy.scorer import Scorer\n",
    "import json"
   ]
  },
  {
   "cell_type": "markdown",
   "metadata": {},
   "source": [
    "##### Helper functions"
   ]
  },
  {
   "cell_type": "code",
   "execution_count": 2,
   "metadata": {},
   "outputs": [],
   "source": [
    "def get_ground_truth(file_name):\n",
    "    ''' Read the ground truth from the json file and return the entities\n",
    "        Input: file_name: the name of the json file'''\n",
    "    \n",
    "    file = open(file_name, \"r\")\n",
    "    annotations = json.load(file)\n",
    "    return annotations['annotations'][0][1]"
   ]
  },
  {
   "cell_type": "code",
   "execution_count": 24,
   "metadata": {},
   "outputs": [],
   "source": [
    "def compute_ner_metrics(predicted_entities, ground_truth_entities):\n",
    "    ''' Compute the precision, recall, and f1-score for the predicted entities\n",
    "        Input: predicted_entities: the list of predicted entities, tuples (word, entity)\n",
    "               ground_truth_entities: the list of ground truth entities, tuples (word, entity)'''\n",
    "    \n",
    "    # Initialize counters for TP, FP, and FN\n",
    "    tp, fp, fn = 0, 0, 0\n",
    "\n",
    "    # Create sets of predicted entities and ground truth entities\n",
    "    predicted_entities_set = set(predicted_entities)\n",
    "    ground_truth_entities_set = set(ground_truth_entities)\n",
    "\n",
    "    # Calculate True Positives (TP)\n",
    "    tp = len(predicted_entities_set.intersection(ground_truth_entities_set))\n",
    "\n",
    "    # Calculate False Positives (FP)\n",
    "    fp = len(predicted_entities_set - ground_truth_entities_set)\n",
    "\n",
    "    # Calculate False Negatives (FN)\n",
    "    fn = len(ground_truth_entities_set - predicted_entities_set)\n",
    "\n",
    "    # Calculate Precision, Recall, and F1-Score\n",
    "    precision = tp / (tp + fp) if tp + fp > 0 else 0\n",
    "    recall = tp / (tp + fn) if tp + fn > 0 else 0\n",
    "    f1_score = (2 * precision * recall) / (precision + recall) if precision + recall > 0 else 0\n",
    "\n",
    "    return precision, recall, f1_score"
   ]
  },
  {
   "cell_type": "code",
   "execution_count": 19,
   "metadata": {},
   "outputs": [],
   "source": [
    "def get_ner_ent(index, dataset_p, nlp, med7):\n",
    "    ''' Get the entities from the text and display them\n",
    "        Input: index: the index of the text in the dataset\n",
    "               dataset_p: the dataset\n",
    "               nlp: the nlp model\n",
    "               med7: the med7 model '''\n",
    "    \n",
    "    print('ID: ', index, '\\n')\n",
    "    # List for the colours of the entities to be displayed\n",
    "    col_dict = {}\n",
    "    colours = ['#e6194B', '#3cb44b', '#ffe119', '#ffd8b1', '#f58231', '#f032e6', '#42d4f4', '#fabebe', '#469990', \n",
    "                    '#e6beff', '#9A6324', '#fffac8', '#800000', '#aaffc3', '#808000', '#ffd8b1', '#000075', '#a9a9a9',\n",
    "                    '#ffffff', '#000000', '#f58231', '#911eb4', '#46f0f0', '#f032e6', '#bcf60c']\n",
    "\n",
    "    # Get the entities list from the models\n",
    "    nlp_ner = list(nlp.pipe_labels['ner'])\n",
    "    med7_ner = list(med7.pipe_labels['ner'])\n",
    "    combined_ner = nlp_ner + med7_ner\n",
    "\n",
    "    # Create a dictionary with the entities and the colours\n",
    "    l_combined_ner = len(combined_ner)\n",
    "    for label, colour in zip(combined_ner, colours[:l_combined_ner]):\n",
    "        col_dict[label] = colour\n",
    "\n",
    "    # Create the options for the display\n",
    "    options = {'entities': combined_ner, 'colors':col_dict}\n",
    "\n",
    "    # Get the text entities from the dataset\n",
    "    text = dataset_p.loc[index, 'tokens']\n",
    "    doc_web_sm = nlp(text)\n",
    "\n",
    "    doc_med7 = med7(text)\n",
    "    docs = [doc_web_sm, doc_med7]\n",
    "\n",
    "    # Display the entities\n",
    "    spacy.displacy.render(docs, style='ent', jupyter=True, options=options)\n",
    "\n",
    "    #  Get the entities from the text\n",
    "    combined_entities = []\n",
    "    for doc in docs:\n",
    "        combined_entities.extend([(ent.text, ent.label_) for ent in doc.ents])\n",
    "\n",
    "    return combined_entities"
   ]
  },
  {
   "cell_type": "code",
   "execution_count": 11,
   "metadata": {},
   "outputs": [],
   "source": [
    "def process_text(text):\n",
    "    ''' Process the text: lowercasing, lemmatization, stopwords removal, \n",
    "        and punctuation removal\n",
    "        Input: text: the text to be processed'''\n",
    "    text = text.lower()\n",
    "    text = text.replace('\\n', ' ')\n",
    "    text = text.replace('\\t', ' ')\n",
    "    text = text.replace('\\r', ' ')\n",
    "    text = text.replace('  ', ' ')\n",
    "\n",
    "    # Word tokenization \n",
    "    tokens = word_tokenize(text)\n",
    "\n",
    "    # Normalization (lowercasing and lemmatization)\n",
    "    lemmatizer = WordNetLemmatizer()\n",
    "    tokens = [lemmatizer.lemmatize(token) for token in tokens]\n",
    "\n",
    "    # Token filtering (stopwords removal)\n",
    "    stop_words = set(stopwords.words('english'))\n",
    "    tokens = [token for token in tokens if token not in stop_words]\n",
    "\n",
    "    # Remove punctuation tokens\n",
    "    tokens = [token for token in tokens if token.isalpha()]\n",
    "\n",
    "    # Join the tokens back into a string\n",
    "    text = ' '.join(tokens)\n",
    "\n",
    "    return text"
   ]
  },
  {
   "cell_type": "markdown",
   "metadata": {},
   "source": [
    "### Task 2"
   ]
  },
  {
   "cell_type": "markdown",
   "metadata": {},
   "source": [
    "##### Task 1 recap"
   ]
  },
  {
   "cell_type": "markdown",
   "metadata": {},
   "source": [
    "First we are going to set the environment that we created in Task 1 for the preprocessing of the text using the pipeline provided in our Task 1 notebook. "
   ]
  },
  {
   "cell_type": "code",
   "execution_count": 12,
   "metadata": {},
   "outputs": [],
   "source": [
    "# Load the dataset\n",
    "dataset = load_dataset(\"argilla/medical-domain\")\n",
    "\n",
    "# preprocess the data\n",
    "dataset_p = pd.DataFrame(columns=['tokens'])\n",
    "for i in range(len(dataset['train'])):\n",
    "    text = dataset['train'][i]['text']\n",
    "    text_p = process_text(text)\n",
    "    dataset_p.loc[i] = [text_p]"
   ]
  },
  {
   "cell_type": "code",
   "execution_count": 14,
   "metadata": {},
   "outputs": [
    {
     "data": {
      "text/html": [
       "<div>\n",
       "<style scoped>\n",
       "    .dataframe tbody tr th:only-of-type {\n",
       "        vertical-align: middle;\n",
       "    }\n",
       "\n",
       "    .dataframe tbody tr th {\n",
       "        vertical-align: top;\n",
       "    }\n",
       "\n",
       "    .dataframe thead th {\n",
       "        text-align: right;\n",
       "    }\n",
       "</style>\n",
       "<table border=\"1\" class=\"dataframe\">\n",
       "  <thead>\n",
       "    <tr style=\"text-align: right;\">\n",
       "      <th></th>\n",
       "      <th>tokens</th>\n",
       "    </tr>\n",
       "  </thead>\n",
       "  <tbody>\n",
       "    <tr>\n",
       "      <th>0</th>\n",
       "      <td>preoperative diagnosis iron deficiency postope...</td>\n",
       "    </tr>\n",
       "    <tr>\n",
       "      <th>1</th>\n",
       "      <td>clinical indication normal stress procedure pe...</td>\n",
       "    </tr>\n",
       "    <tr>\n",
       "      <th>2</th>\n",
       "      <td>finding scan performed reformatted image obtai...</td>\n",
       "    </tr>\n",
       "    <tr>\n",
       "      <th>3</th>\n",
       "      <td>preoperative diagnosis blood loss postoperativ...</td>\n",
       "    </tr>\n",
       "    <tr>\n",
       "      <th>4</th>\n",
       "      <td>reason visit elevated psa nocturia occasional ...</td>\n",
       "    </tr>\n",
       "  </tbody>\n",
       "</table>\n",
       "</div>"
      ],
      "text/plain": [
       "                                              tokens\n",
       "0  preoperative diagnosis iron deficiency postope...\n",
       "1  clinical indication normal stress procedure pe...\n",
       "2  finding scan performed reformatted image obtai...\n",
       "3  preoperative diagnosis blood loss postoperativ...\n",
       "4  reason visit elevated psa nocturia occasional ..."
      ]
     },
     "execution_count": 14,
     "metadata": {},
     "output_type": "execute_result"
    }
   ],
   "source": [
    "dataset_p.head()"
   ]
  },
  {
   "cell_type": "markdown",
   "metadata": {},
   "source": [
    "The standard NER types can be obtained from the \"en_core_web_sm\" model. And are the following:\n",
    "\n",
    "CARDINAL, DATE, EVENT, FAC, GPE, LANGUAGE, LAW, LOC, MONEY, NORP, ORDINAL, ORG, PERCENT, PERSON, PRODUCT, QUANTITY, TIME, WORK_OF_ART."
   ]
  },
  {
   "cell_type": "code",
   "execution_count": 13,
   "metadata": {},
   "outputs": [
    {
     "name": "stderr",
     "output_type": "stream",
     "text": [
      "c:\\Users\\marta\\AppData\\Local\\Programs\\Python\\Python39\\lib\\site-packages\\spacy\\util.py:877: UserWarning: [W095] Model 'en_core_web_sm' (3.5.0) was trained with spaCy v3.5 and may not be 100% compatible with the current version (3.4.4). If you see errors or degraded performance, download a newer compatible model or retrain your custom model with the current spaCy version. For more details and available updates, run: python -m spacy validate\n",
      "  warnings.warn(warn_msg)\n"
     ]
    },
    {
     "data": {
      "text/plain": [
       "['CARDINAL',\n",
       " 'DATE',\n",
       " 'EVENT',\n",
       " 'FAC',\n",
       " 'GPE',\n",
       " 'LANGUAGE',\n",
       " 'LAW',\n",
       " 'LOC',\n",
       " 'MONEY',\n",
       " 'NORP',\n",
       " 'ORDINAL',\n",
       " 'ORG',\n",
       " 'PERCENT',\n",
       " 'PERSON',\n",
       " 'PRODUCT',\n",
       " 'QUANTITY',\n",
       " 'TIME',\n",
       " 'WORK_OF_ART']"
      ]
     },
     "execution_count": 13,
     "metadata": {},
     "output_type": "execute_result"
    }
   ],
   "source": [
    "# Load nlp english model\n",
    "nlp = spacy.load(\"en_core_web_sm\")\n",
    "list(nlp.pipe_labels['ner'])"
   ]
  },
  {
   "cell_type": "markdown",
   "metadata": {},
   "source": [
    "Our documents are medical related, so we should look for NER classes that can explain some medical terms as medication or treatments to extend the standard NER types.\n",
    "By manual inspection we identified following potential new NER types:\n",
    "- Healthcare profession \n",
    "- Administrative event (e.g. hospitalization)\n",
    "- Care environment\n",
    "- Demographic\n",
    "- Anatomy\n",
    "- Diseases\n",
    "- Symptom\n",
    "- Examination\n",
    "- Measurement unit\n",
    "- Measurement value\n",
    "- Treatment\n",
    "- Medication\n",
    "- Medication Dosage\n",
    "- Medication form (e.g. tablet)\n",
    "- Medication route\n",
    "\n",
    "To extend our NER classification we can't use all of them, because we are restricted to labels which our classifiers are trained on. In order to extend our classes we are going to use the med7 NER model (https://github.com/kormilitzin/med7) composed from the following NER labels:\n",
    "DOSAGE, DRUG, DURATION, FORM, FREQUENCY, ROUTE, STRENGTH"
   ]
  },
  {
   "cell_type": "code",
   "execution_count": 15,
   "metadata": {},
   "outputs": [
    {
     "data": {
      "text/plain": [
       "['DOSAGE', 'DRUG', 'DURATION', 'FORM', 'FREQUENCY', 'ROUTE', 'STRENGTH']"
      ]
     },
     "execution_count": 15,
     "metadata": {},
     "output_type": "execute_result"
    }
   ],
   "source": [
    "med7 = spacy.load(\"en_core_med7_lg\")\n",
    "list(med7.pipe_labels['ner'])"
   ]
  },
  {
   "cell_type": "markdown",
   "metadata": {},
   "source": [
    "##### Apply NER types and evaluate."
   ]
  },
  {
   "cell_type": "markdown",
   "metadata": {},
   "source": [
    "To apply the NER classifier to our data we have implemented the get_ner_ent function. Will be applied after together with the evaluation of our samples.\n",
    "\n",
    "To evaluate the NER classifier we first need to create our GT data. For that we are going to manually annonate 4 texts with the standard NER types and the extended classes. "
   ]
  },
  {
   "cell_type": "markdown",
   "metadata": {},
   "source": [
    "The GT annotations are been done exporting the NER types from the four text using NER Annotator (https://tecoholic.github.io/ner-annotator/). "
   ]
  },
  {
   "cell_type": "code",
   "execution_count": 16,
   "metadata": {},
   "outputs": [],
   "source": [
    "'''Select 4 random samples: these random samples id are then stored \n",
    "in the idx array for further replication.'''\n",
    "# l = len(dataset_p)\n",
    "# select 10 random samples\n",
    "# idx = np.random.randint(0, l, 9)\n",
    "idx = np.array([2906, 4146, 4671, 1074])"
   ]
  },
  {
   "cell_type": "code",
   "execution_count": 17,
   "metadata": {},
   "outputs": [
    {
     "name": "stdout",
     "output_type": "stream",
     "text": [
      "idx:  2906  -->  preoperative diagnosis tympanic membrane atelectasis chronic eustachian tube postoperative diagnosis tympanic membrane atelectasis chronic eustachian tube operative procedure bilateral myringotomy insertion santa barbara anesthesia general finding patient white female chronic eustachian tube dysfunction tm atelectasis wa taken operating room tube time surgery ha extruding right santa barbara severe left tm atelectasis retraction wa scant amount fluid middle ear description procedure patient wa taken operating room placed supine position general mask anesthesia wa established right ear wa draped normal sterile fashion cerumen wa removed external canal extruding santa barbara wa identified atraumatically removed fresh santa barbara wa atraumatically inserted ciloxan drop attention wa directed left side severe tm atelectasis wa identified mask anesthetic eardrum elevated radial incision wa made inferior aspect tympanic membrane middle ear fluid aspirated santa barbara wa inserted without difficulty drop ciloxan solution applied anesthesia wa reversed patient taken recovery room satisfactory condition\n",
      "idx:  4146  -->  procedure endoscopic retrograde cholangiopancreatography brush cytology indication procedure patient history chronic abdominal pain ct showing evidence chronic pancreatitis recent upper endoscopy showing medication general risk procedure made aware patient consisted medication reaction bleeding perforation aspiration post ercp description procedure informed consent appropriate sedation duodenoscope wa inserted oropharynx esophagus stomach scope wa advanced pylorus ampulla ampulla markedly abnormal appearance wa enlarged prominent extended outward almost polypoid shape appeared mucosa tip also wa ulceration noted tip ampulla biliary pancreatic orifice identified wa located tip ampulla rather towards base cannulation wa performed tritome sphincterotome easy cannulation biliary tree common bile duct wa mildly dilated measuring approximately mm intrahepatic duct minimally dilated filling defect identified wa felt possible stricture within distal common bile duct likely represented anatomic variant given abnormal shape ampulla patient ha evidence obstruction based lab work clinically nevertheless wa decided proceed brush cytology segment wa done without complication wa adequate drainage biliary tree noted throughout procedure multiple effort made access pancreatic ductal anatomy however shape ampulla wa unsuccessful effort made proceed long scope position still unsuccessful next biopsy obtained ampulla away biliary orifice four biopsy taken wa minor oozing ceased end procedure stomach wa decompressed endoscope wa finding abnormal papilla bulging polypoid appearance look adenomatous ulceration tip biopsy cholangiogram reveals mildly dilated common bile duct measuring mm possible distal cbd stricture although think likely anatomic variant brush cytology unable access pancreatic recommendation npo except ice chip proceed mrcp better delineate pancreatic ductal follow biopsy cytology\n",
      "idx:  4671  -->  preoperative diagnosis adenotonsillar hypertrophy chronic otitis postoperative diagnosis adenotonsillar hypertrophy chronic otitis procedure performed tympanostomy tube anesthesia general description procedure patient wa taken operating room prepped draped usual fashion induction general endotracheal anesthesia mcivor mouth gag wa placed oral cavity tongue depressor applied two red rubber robinson catheter placed nasal passage brought oral cavity clamped dental gauze roll placed upper lip provide soft palate attention wa directed nasopharynx bovie set coag suction bovie tip suction hose adenoid bed wa fulgurated beginning posterosuperior aspect nasopharynx apex choana placing tip suction cautery deep root adenoid next roof nasopharynx linear fashion making serial passage base adenoid fossa parallel line entire nasopharynx adenoid bed fulgurated moving posterior anterior mcivor wa relaxed attention wa directed left external auditory canal wa examined operating microscope cleaned ceruminous anteroinferior quadrant tympanostomy incision wa made fluid wa suctioned middle ear space tympanostomy tube wa placed level incision pushed position rosen needle cortisporin ear drop instilled canal cotton ball wa placed external similar procedure opposite tympanostomy tube placement patient tolerated procedure well left operating room good condition\n",
      "idx:  1074  -->  general evaluation twin b fetal cardiac activity normal bpm fetal lie longitudinal maternal fetal presentation placenta fused posterior placenta grade uterus normal cervix adnexa seen amniotic fluid afi single ap biometry consistent day gestation hc consistent week day gestation ac consistent week day gestation fl\n"
     ]
    }
   ],
   "source": [
    "# test data txt: ground truth annotations\n",
    "for i in idx:\n",
    "    print('idx: ', i, ' --> ', dataset_p.loc[i]['tokens'])"
   ]
  },
  {
   "cell_type": "code",
   "execution_count": 25,
   "metadata": {},
   "outputs": [
    {
     "name": "stdout",
     "output_type": "stream",
     "text": [
      "ID:  2906 \n",
      "\n"
     ]
    },
    {
     "data": {
      "text/html": [
       "<span class=\"tex2jax_ignore\"><div class=\"entities\" style=\"line-height: 2.5; direction: ltr\">preoperative diagnosis tympanic membrane atelectasis chronic eustachian tube postoperative diagnosis \n",
       "<mark class=\"entity\" style=\"background: #e6194B; padding: 0.45em 0.6em; margin: 0 0.25em; line-height: 1; border-radius: 0.35em;\">\n",
       "    tympanic\n",
       "    <span style=\"font-size: 0.8em; font-weight: bold; line-height: 1; border-radius: 0.35em; vertical-align: middle; margin-left: 0.5rem\">CARDINAL</span>\n",
       "</mark>\n",
       " membrane atelectasis chronic eustachian tube operative procedure bilateral myringotomy insertion \n",
       "<mark class=\"entity\" style=\"background: #f58231; padding: 0.45em 0.6em; margin: 0 0.25em; line-height: 1; border-radius: 0.35em;\">\n",
       "    santa barbara anesthesia\n",
       "    <span style=\"font-size: 0.8em; font-weight: bold; line-height: 1; border-radius: 0.35em; vertical-align: middle; margin-left: 0.5rem\">GPE</span>\n",
       "</mark>\n",
       " general finding patient white female chronic eustachian tube dysfunction tm atelectasis wa taken operating room tube time surgery ha extruding right \n",
       "<mark class=\"entity\" style=\"background: #f58231; padding: 0.45em 0.6em; margin: 0 0.25em; line-height: 1; border-radius: 0.35em;\">\n",
       "    santa barbara\n",
       "    <span style=\"font-size: 0.8em; font-weight: bold; line-height: 1; border-radius: 0.35em; vertical-align: middle; margin-left: 0.5rem\">GPE</span>\n",
       "</mark>\n",
       " severe left tm atelectasis retraction wa scant amount fluid middle ear description procedure patient wa taken operating room placed supine position general mask anesthesia wa established right ear wa draped normal sterile fashion cerumen wa removed external canal extruding \n",
       "<mark class=\"entity\" style=\"background: #f58231; padding: 0.45em 0.6em; margin: 0 0.25em; line-height: 1; border-radius: 0.35em;\">\n",
       "    santa barbara\n",
       "    <span style=\"font-size: 0.8em; font-weight: bold; line-height: 1; border-radius: 0.35em; vertical-align: middle; margin-left: 0.5rem\">GPE</span>\n",
       "</mark>\n",
       " wa identified atraumatically removed fresh \n",
       "<mark class=\"entity\" style=\"background: #f58231; padding: 0.45em 0.6em; margin: 0 0.25em; line-height: 1; border-radius: 0.35em;\">\n",
       "    santa barbara\n",
       "    <span style=\"font-size: 0.8em; font-weight: bold; line-height: 1; border-radius: 0.35em; vertical-align: middle; margin-left: 0.5rem\">GPE</span>\n",
       "</mark>\n",
       " wa atraumatically inserted ciloxan drop attention wa directed left side severe tm atelectasis wa identified mask anesthetic eardrum elevated radial incision wa made inferior aspect \n",
       "<mark class=\"entity\" style=\"background: #e6194B; padding: 0.45em 0.6em; margin: 0 0.25em; line-height: 1; border-radius: 0.35em;\">\n",
       "    tympanic\n",
       "    <span style=\"font-size: 0.8em; font-weight: bold; line-height: 1; border-radius: 0.35em; vertical-align: middle; margin-left: 0.5rem\">CARDINAL</span>\n",
       "</mark>\n",
       " membrane middle ear fluid aspirated \n",
       "<mark class=\"entity\" style=\"background: #f58231; padding: 0.45em 0.6em; margin: 0 0.25em; line-height: 1; border-radius: 0.35em;\">\n",
       "    santa barbara\n",
       "    <span style=\"font-size: 0.8em; font-weight: bold; line-height: 1; border-radius: 0.35em; vertical-align: middle; margin-left: 0.5rem\">GPE</span>\n",
       "</mark>\n",
       " wa inserted without difficulty drop ciloxan solution applied \n",
       "<mark class=\"entity\" style=\"background: #f58231; padding: 0.45em 0.6em; margin: 0 0.25em; line-height: 1; border-radius: 0.35em;\">\n",
       "    anesthesia\n",
       "    <span style=\"font-size: 0.8em; font-weight: bold; line-height: 1; border-radius: 0.35em; vertical-align: middle; margin-left: 0.5rem\">GPE</span>\n",
       "</mark>\n",
       " wa reversed patient taken recovery room satisfactory condition</div>\n",
       "\n",
       "<div class=\"entities\" style=\"line-height: 2.5; direction: ltr\">preoperative diagnosis tympanic membrane atelectasis chronic eustachian tube postoperative diagnosis tympanic membrane atelectasis chronic eustachian tube operative procedure bilateral myringotomy insertion santa barbara anesthesia general finding patient white female chronic eustachian tube dysfunction tm atelectasis wa taken operating room tube time surgery ha extruding right santa barbara severe left tm atelectasis retraction wa scant amount fluid middle ear description procedure patient wa taken operating room placed supine position general mask anesthesia wa established right ear wa draped normal sterile fashion cerumen wa removed external canal extruding santa barbara wa identified atraumatically removed fresh santa barbara wa atraumatically \n",
       "<mark class=\"entity\" style=\"background: #911eb4; padding: 0.45em 0.6em; margin: 0 0.25em; line-height: 1; border-radius: 0.35em;\">\n",
       "    inserted\n",
       "    <span style=\"font-size: 0.8em; font-weight: bold; line-height: 1; border-radius: 0.35em; vertical-align: middle; margin-left: 0.5rem\">FORM</span>\n",
       "</mark>\n",
       " \n",
       "<mark class=\"entity\" style=\"background: #000000; padding: 0.45em 0.6em; margin: 0 0.25em; line-height: 1; border-radius: 0.35em;\">\n",
       "    ciloxan\n",
       "    <span style=\"font-size: 0.8em; font-weight: bold; line-height: 1; border-radius: 0.35em; vertical-align: middle; margin-left: 0.5rem\">DRUG</span>\n",
       "</mark>\n",
       " drop attention wa directed left side severe tm atelectasis wa identified mask anesthetic eardrum elevated radial incision wa made inferior aspect tympanic membrane middle ear fluid aspirated santa barbara wa inserted without difficulty drop \n",
       "<mark class=\"entity\" style=\"background: #000000; padding: 0.45em 0.6em; margin: 0 0.25em; line-height: 1; border-radius: 0.35em;\">\n",
       "    ciloxan\n",
       "    <span style=\"font-size: 0.8em; font-weight: bold; line-height: 1; border-radius: 0.35em; vertical-align: middle; margin-left: 0.5rem\">DRUG</span>\n",
       "</mark>\n",
       " solution applied \n",
       "<mark class=\"entity\" style=\"background: #000000; padding: 0.45em 0.6em; margin: 0 0.25em; line-height: 1; border-radius: 0.35em;\">\n",
       "    anesthesia\n",
       "    <span style=\"font-size: 0.8em; font-weight: bold; line-height: 1; border-radius: 0.35em; vertical-align: middle; margin-left: 0.5rem\">DRUG</span>\n",
       "</mark>\n",
       " wa reversed patient taken recovery room satisfactory condition</div></span>"
      ],
      "text/plain": [
       "<IPython.core.display.HTML object>"
      ]
     },
     "metadata": {},
     "output_type": "display_data"
    },
    {
     "name": "stdout",
     "output_type": "stream",
     "text": [
      "NER Entities:  [('tympanic', 'CARDINAL'), ('santa barbara anesthesia', 'GPE'), ('santa barbara', 'GPE'), ('santa barbara', 'GPE'), ('santa barbara', 'GPE'), ('tympanic', 'CARDINAL'), ('santa barbara', 'GPE'), ('anesthesia', 'GPE'), ('inserted', 'FORM'), ('ciloxan', 'DRUG'), ('ciloxan', 'DRUG'), ('anesthesia', 'DRUG')]\n",
      "Ground Truth:  [('santa barbara', 'GPE'), ('time', 'TIME'), ('ciloxan', 'DRUG'), ('santa barbara', 'GPE'), ('ciloxan', 'DRUG')]\n",
      "\n",
      "ID:  4146 \n",
      "\n"
     ]
    },
    {
     "data": {
      "text/html": [
       "<span class=\"tex2jax_ignore\"><div class=\"entities\" style=\"line-height: 2.5; direction: ltr\">procedure endoscopic retrograde cholangiopancreatography brush cytology indication procedure patient history chronic abdominal pain ct showing evidence chronic pancreatitis recent upper endoscopy showing medication general risk procedure made aware patient consisted medication reaction bleeding perforation aspiration post ercp description procedure informed consent appropriate sedation duodenoscope wa inserted oropharynx esophagus stomach scope wa advanced pylorus ampulla ampulla markedly abnormal appearance wa enlarged prominent extended outward almost polypoid shape appeared mucosa tip also wa ulceration noted tip ampulla biliary pancreatic orifice identified wa located tip ampulla rather towards base cannulation wa performed tritome sphincterotome easy cannulation biliary tree common bile duct wa mildly dilated measuring approximately \n",
       "<mark class=\"entity\" style=\"background: #aaffc3; padding: 0.45em 0.6em; margin: 0 0.25em; line-height: 1; border-radius: 0.35em;\">\n",
       "    mm\n",
       "    <span style=\"font-size: 0.8em; font-weight: bold; line-height: 1; border-radius: 0.35em; vertical-align: middle; margin-left: 0.5rem\">PERSON</span>\n",
       "</mark>\n",
       " intrahepatic duct minimally dilated filling defect identified wa felt possible stricture within distal common bile duct likely represented anatomic variant given abnormal shape ampulla patient ha evidence obstruction based lab work clinically nevertheless wa decided proceed brush cytology segment wa done without complication wa adequate drainage biliary tree noted throughout procedure multiple effort made access pancreatic ductal anatomy however shape ampulla wa unsuccessful effort made proceed long scope position still unsuccessful next biopsy obtained ampulla away biliary orifice \n",
       "<mark class=\"entity\" style=\"background: #e6194B; padding: 0.45em 0.6em; margin: 0 0.25em; line-height: 1; border-radius: 0.35em;\">\n",
       "    four\n",
       "    <span style=\"font-size: 0.8em; font-weight: bold; line-height: 1; border-radius: 0.35em; vertical-align: middle; margin-left: 0.5rem\">CARDINAL</span>\n",
       "</mark>\n",
       " biopsy taken wa minor oozing ceased end procedure stomach wa decompressed endoscope wa finding abnormal papilla bulging polypoid appearance look adenomatous ulceration tip biopsy cholangiogram reveals mildly dilated common bile duct measuring \n",
       "<mark class=\"entity\" style=\"background: #aaffc3; padding: 0.45em 0.6em; margin: 0 0.25em; line-height: 1; border-radius: 0.35em;\">\n",
       "    mm\n",
       "    <span style=\"font-size: 0.8em; font-weight: bold; line-height: 1; border-radius: 0.35em; vertical-align: middle; margin-left: 0.5rem\">PERSON</span>\n",
       "</mark>\n",
       " possible distal cbd stricture although think likely anatomic variant brush cytology unable access pancreatic recommendation npo except ice chip proceed mrcp better delineate pancreatic ductal follow biopsy cytology</div>\n",
       "\n",
       "<div class=\"entities\" style=\"line-height: 2.5; direction: ltr\">procedure endoscopic retrograde cholangiopancreatography brush cytology indication procedure patient history chronic abdominal pain ct showing evidence chronic pancreatitis recent upper endoscopy showing medication general risk procedure made aware patient consisted medication reaction bleeding perforation aspiration post ercp description procedure informed consent appropriate sedation duodenoscope wa inserted oropharynx esophagus stomach scope wa advanced pylorus ampulla ampulla markedly abnormal appearance wa enlarged prominent extended outward almost polypoid shape appeared mucosa tip also wa ulceration noted tip ampulla biliary pancreatic orifice identified wa located tip ampulla rather towards base cannulation wa performed \n",
       "<mark class=\"entity\" style=\"background: #000000; padding: 0.45em 0.6em; margin: 0 0.25em; line-height: 1; border-radius: 0.35em;\">\n",
       "    tritome\n",
       "    <span style=\"font-size: 0.8em; font-weight: bold; line-height: 1; border-radius: 0.35em; vertical-align: middle; margin-left: 0.5rem\">DRUG</span>\n",
       "</mark>\n",
       " sphincterotome easy cannulation biliary tree common bile duct wa mildly dilated measuring approximately mm intrahepatic duct minimally dilated filling defect identified wa felt possible stricture within distal common bile duct likely represented anatomic variant given abnormal shape ampulla patient ha evidence obstruction based lab work clinically nevertheless wa decided proceed brush cytology segment wa done without complication wa adequate drainage biliary tree noted throughout procedure multiple effort made access pancreatic ductal anatomy however shape ampulla wa unsuccessful effort made proceed long scope position still unsuccessful next biopsy obtained ampulla away biliary orifice four biopsy taken wa minor oozing ceased end procedure stomach wa decompressed endoscope wa finding abnormal papilla bulging polypoid appearance look adenomatous ulceration tip biopsy cholangiogram reveals mildly dilated common bile duct measuring mm possible distal cbd stricture although think likely anatomic variant brush cytology unable access pancreatic recommendation npo except ice chip proceed mrcp better delineate pancreatic ductal follow biopsy cytology</div></span>"
      ],
      "text/plain": [
       "<IPython.core.display.HTML object>"
      ]
     },
     "metadata": {},
     "output_type": "display_data"
    },
    {
     "name": "stdout",
     "output_type": "stream",
     "text": [
      "NER Entities:  [('mm', 'PERSON'), ('four', 'CARDINAL'), ('mm', 'PERSON'), ('tritome', 'DRUG')]\n",
      "Ground Truth:  [('ct', 'PRODUCT'), ('medication', 'DRUG'), ('medication', 'DRUG'), ('ercp', 'PRODUCT'), ('pylorus', 'DRUG'), ('ampulla', 'DOSAGE'), ('ampulla', 'DOSAGE'), ('ampulla', 'DOSAGE'), ('ampulla', 'DOSAGE'), ('tritome', 'DRUG'), ('mm', 'QUANTITY'), ('ampulla', 'DOSAGE'), ('ampulla', 'DOSAGE'), ('ampulla', 'DOSAGE'), ('four', 'CARDINAL'), ('mm', 'QUANTITY')]\n",
      "\n",
      "ID:  4671 \n",
      "\n"
     ]
    },
    {
     "data": {
      "text/html": [
       "<span class=\"tex2jax_ignore\"><div class=\"entities\" style=\"line-height: 2.5; direction: ltr\">preoperative diagnosis adenotonsillar hypertrophy chronic otitis postoperative diagnosis adenotonsillar hypertrophy chronic otitis procedure performed tympanostomy tube \n",
       "<mark class=\"entity\" style=\"background: #f58231; padding: 0.45em 0.6em; margin: 0 0.25em; line-height: 1; border-radius: 0.35em;\">\n",
       "    anesthesia\n",
       "    <span style=\"font-size: 0.8em; font-weight: bold; line-height: 1; border-radius: 0.35em; vertical-align: middle; margin-left: 0.5rem\">GPE</span>\n",
       "</mark>\n",
       " general description procedure patient wa taken operating room prepped draped usual fashion induction general endotracheal \n",
       "<mark class=\"entity\" style=\"background: #f58231; padding: 0.45em 0.6em; margin: 0 0.25em; line-height: 1; border-radius: 0.35em;\">\n",
       "    anesthesia\n",
       "    <span style=\"font-size: 0.8em; font-weight: bold; line-height: 1; border-radius: 0.35em; vertical-align: middle; margin-left: 0.5rem\">GPE</span>\n",
       "</mark>\n",
       " mcivor mouth gag wa placed oral cavity tongue depressor applied \n",
       "<mark class=\"entity\" style=\"background: #e6194B; padding: 0.45em 0.6em; margin: 0 0.25em; line-height: 1; border-radius: 0.35em;\">\n",
       "    two\n",
       "    <span style=\"font-size: 0.8em; font-weight: bold; line-height: 1; border-radius: 0.35em; vertical-align: middle; margin-left: 0.5rem\">CARDINAL</span>\n",
       "</mark>\n",
       " red rubber robinson catheter placed nasal passage brought oral cavity clamped dental gauze roll placed upper lip provide soft palate attention wa directed \n",
       "<mark class=\"entity\" style=\"background: #3cb44b; padding: 0.45em 0.6em; margin: 0 0.25em; line-height: 1; border-radius: 0.35em;\">\n",
       "    nasopharynx\n",
       "    <span style=\"font-size: 0.8em; font-weight: bold; line-height: 1; border-radius: 0.35em; vertical-align: middle; margin-left: 0.5rem\">DATE</span>\n",
       "</mark>\n",
       " bovie set coag suction bovie tip suction hose adenoid bed wa fulgurated beginning posterosuperior aspect \n",
       "<mark class=\"entity\" style=\"background: #3cb44b; padding: 0.45em 0.6em; margin: 0 0.25em; line-height: 1; border-radius: 0.35em;\">\n",
       "    nasopharynx\n",
       "    <span style=\"font-size: 0.8em; font-weight: bold; line-height: 1; border-radius: 0.35em; vertical-align: middle; margin-left: 0.5rem\">DATE</span>\n",
       "</mark>\n",
       " apex \n",
       "<mark class=\"entity\" style=\"background: #fffac8; padding: 0.45em 0.6em; margin: 0 0.25em; line-height: 1; border-radius: 0.35em;\">\n",
       "    choana\n",
       "    <span style=\"font-size: 0.8em; font-weight: bold; line-height: 1; border-radius: 0.35em; vertical-align: middle; margin-left: 0.5rem\">ORG</span>\n",
       "</mark>\n",
       " placing tip suction cautery deep root adenoid next roof nasopharynx \n",
       "<mark class=\"entity\" style=\"background: #fffac8; padding: 0.45em 0.6em; margin: 0 0.25em; line-height: 1; border-radius: 0.35em;\">\n",
       "    linear\n",
       "    <span style=\"font-size: 0.8em; font-weight: bold; line-height: 1; border-radius: 0.35em; vertical-align: middle; margin-left: 0.5rem\">ORG</span>\n",
       "</mark>\n",
       " fashion making serial passage base adenoid fossa parallel line entire nasopharynx adenoid bed fulgurated moving posterior anterior mcivor wa relaxed attention wa directed left external auditory canal wa examined operating microscope cleaned ceruminous anteroinferior quadrant tympanostomy incision wa made fluid wa suctioned middle ear space tympanostomy tube wa placed level incision pushed position rosen needle cortisporin ear drop instilled canal cotton ball wa placed external similar procedure opposite tympanostomy tube placement patient tolerated procedure well left operating room good condition</div>\n",
       "\n",
       "<div class=\"entities\" style=\"line-height: 2.5; direction: ltr\">preoperative diagnosis adenotonsillar hypertrophy chronic otitis postoperative diagnosis adenotonsillar hypertrophy chronic otitis procedure performed tympanostomy tube anesthesia general description procedure patient wa taken operating room prepped draped usual fashion induction general \n",
       "<mark class=\"entity\" style=\"background: #f032e6; padding: 0.45em 0.6em; margin: 0 0.25em; line-height: 1; border-radius: 0.35em;\">\n",
       "    endotracheal\n",
       "    <span style=\"font-size: 0.8em; font-weight: bold; line-height: 1; border-radius: 0.35em; vertical-align: middle; margin-left: 0.5rem\">ROUTE</span>\n",
       "</mark>\n",
       " anesthesia mcivor mouth gag wa placed oral cavity tongue depressor applied \n",
       "<mark class=\"entity\" style=\"background: #ffffff; padding: 0.45em 0.6em; margin: 0 0.25em; line-height: 1; border-radius: 0.35em;\">\n",
       "    two\n",
       "    <span style=\"font-size: 0.8em; font-weight: bold; line-height: 1; border-radius: 0.35em; vertical-align: middle; margin-left: 0.5rem\">DOSAGE</span>\n",
       "</mark>\n",
       " red rubber robinson catheter placed nasal passage brought oral cavity clamped dental gauze roll placed upper lip provide soft palate attention wa directed nasopharynx bovie set coag suction bovie tip suction hose adenoid bed wa fulgurated beginning posterosuperior aspect nasopharynx apex choana placing tip suction cautery deep root adenoid next roof nasopharynx linear fashion making serial passage base adenoid fossa parallel line entire nasopharynx adenoid bed fulgurated moving posterior anterior mcivor wa relaxed attention wa directed left external auditory canal wa examined operating microscope cleaned ceruminous anteroinferior quadrant tympanostomy incision wa made fluid wa suctioned middle ear space tympanostomy tube wa placed level incision pushed position rosen needle \n",
       "<mark class=\"entity\" style=\"background: #000000; padding: 0.45em 0.6em; margin: 0 0.25em; line-height: 1; border-radius: 0.35em;\">\n",
       "    cortisporin\n",
       "    <span style=\"font-size: 0.8em; font-weight: bold; line-height: 1; border-radius: 0.35em; vertical-align: middle; margin-left: 0.5rem\">DRUG</span>\n",
       "</mark>\n",
       " \n",
       "<mark class=\"entity\" style=\"background: #f032e6; padding: 0.45em 0.6em; margin: 0 0.25em; line-height: 1; border-radius: 0.35em;\">\n",
       "    ear\n",
       "    <span style=\"font-size: 0.8em; font-weight: bold; line-height: 1; border-radius: 0.35em; vertical-align: middle; margin-left: 0.5rem\">ROUTE</span>\n",
       "</mark>\n",
       " drop instilled canal cotton ball wa placed external similar procedure opposite tympanostomy tube placement patient tolerated procedure well left operating room good condition</div></span>"
      ],
      "text/plain": [
       "<IPython.core.display.HTML object>"
      ]
     },
     "metadata": {},
     "output_type": "display_data"
    },
    {
     "name": "stdout",
     "output_type": "stream",
     "text": [
      "NER Entities:  [('anesthesia', 'GPE'), ('anesthesia', 'GPE'), ('two', 'CARDINAL'), ('nasopharynx', 'DATE'), ('nasopharynx', 'DATE'), ('choana', 'ORG'), ('linear', 'ORG'), ('endotracheal', 'ROUTE'), ('two', 'DOSAGE'), ('cortisporin', 'DRUG'), ('ear', 'ROUTE')]\n",
      "Ground Truth:  [('oral', 'ROUTE'), ('nasal', 'ROUTE'), ('oral', 'ROUTE'), ('cortisporin', 'DRUG'), ('drop', 'DOSAGE')]\n",
      "\n",
      "ID:  1074 \n",
      "\n"
     ]
    },
    {
     "data": {
      "text/html": [
       "<span class=\"tex2jax_ignore\"><div class=\"entities\" style=\"line-height: 2.5; direction: ltr\">general evaluation twin b fetal cardiac activity normal bpm fetal lie longitudinal maternal fetal presentation placenta fused posterior placenta grade uterus normal cervix adnexa seen amniotic fluid afi single ap biometry consistent day gestation hc consistent \n",
       "<mark class=\"entity\" style=\"background: #3cb44b; padding: 0.45em 0.6em; margin: 0 0.25em; line-height: 1; border-radius: 0.35em;\">\n",
       "    week day\n",
       "    <span style=\"font-size: 0.8em; font-weight: bold; line-height: 1; border-radius: 0.35em; vertical-align: middle; margin-left: 0.5rem\">DATE</span>\n",
       "</mark>\n",
       " gestation ac consistent \n",
       "<mark class=\"entity\" style=\"background: #3cb44b; padding: 0.45em 0.6em; margin: 0 0.25em; line-height: 1; border-radius: 0.35em;\">\n",
       "    week day\n",
       "    <span style=\"font-size: 0.8em; font-weight: bold; line-height: 1; border-radius: 0.35em; vertical-align: middle; margin-left: 0.5rem\">DATE</span>\n",
       "</mark>\n",
       " gestation fl</div>\n",
       "\n",
       "<div class=\"entities\" style=\"line-height: 2.5; direction: ltr\">general evaluation twin b fetal cardiac activity normal bpm fetal lie longitudinal maternal fetal presentation placenta fused posterior placenta grade uterus normal cervix adnexa seen amniotic fluid afi \n",
       "<mark class=\"entity\" style=\"background: #ffffff; padding: 0.45em 0.6em; margin: 0 0.25em; line-height: 1; border-radius: 0.35em;\">\n",
       "    single\n",
       "    <span style=\"font-size: 0.8em; font-weight: bold; line-height: 1; border-radius: 0.35em; vertical-align: middle; margin-left: 0.5rem\">DOSAGE</span>\n",
       "</mark>\n",
       " ap biometry consistent day gestation hc consistent week day gestation \n",
       "<mark class=\"entity\" style=\"background: #46f0f0; padding: 0.45em 0.6em; margin: 0 0.25em; line-height: 1; border-radius: 0.35em;\">\n",
       "    ac consistent week day\n",
       "    <span style=\"font-size: 0.8em; font-weight: bold; line-height: 1; border-radius: 0.35em; vertical-align: middle; margin-left: 0.5rem\">FREQUENCY</span>\n",
       "</mark>\n",
       " gestation \n",
       "<mark class=\"entity\" style=\"background: #ffffff; padding: 0.45em 0.6em; margin: 0 0.25em; line-height: 1; border-radius: 0.35em;\">\n",
       "    fl\n",
       "    <span style=\"font-size: 0.8em; font-weight: bold; line-height: 1; border-radius: 0.35em; vertical-align: middle; margin-left: 0.5rem\">DOSAGE</span>\n",
       "</mark>\n",
       "</div></span>"
      ],
      "text/plain": [
       "<IPython.core.display.HTML object>"
      ]
     },
     "metadata": {},
     "output_type": "display_data"
    },
    {
     "name": "stdout",
     "output_type": "stream",
     "text": [
      "NER Entities:  [('week day', 'DATE'), ('week day', 'DATE'), ('single', 'DOSAGE'), ('ac consistent week day', 'FREQUENCY'), ('fl', 'DOSAGE')]\n",
      "Ground Truth:  [('bpm', 'QUANTITY'), ('day', 'DURATION'), ('week day', 'DATE'), ('week day', 'DATE')]\n",
      "\n",
      "Precision: 0.37 (+/-) 0.17\n",
      "Recall: 0.33 (+/-) 0.21\n",
      "F1-Score: 0.3 (+/-) 0.09\n"
     ]
    }
   ],
   "source": [
    "# retrieve all test data metrics\n",
    "precission_all = []\n",
    "recall_all = []\n",
    "f1_score_all = []\n",
    "for i in idx:\n",
    "    # ner entities: spacy model\n",
    "    ents_ne = get_ner_ent(i, dataset_p, nlp, med7)\n",
    "\n",
    "    # gt annotations\n",
    "    file_name = 'gt_annotations/{:d}_annotations.json'.format(i)\n",
    "    ents_gt = get_ground_truth(file_name)\n",
    "\n",
    "    list_gt = []\n",
    "    for ent in ents_gt['entities']:\n",
    "        list_gt.append((dataset_p.loc[i, 'tokens'][ent[0]:ent[1]], ent[2]))\n",
    "    \n",
    "    print('NER Entities: ', ents_ne)\n",
    "    print('Ground Truth: ', list_gt)\n",
    "    precision, recall, f1_score = compute_ner_metrics(list_gt, ents_ne)\n",
    "\n",
    "    print()\n",
    "\n",
    "    precission_all.append(precision)\n",
    "    recall_all.append(recall)\n",
    "    f1_score_all.append(f1_score)\n",
    "\n",
    "print(\"Precision:\", np.round(np.mean(precission_all),2), '(+/-)', np.round(np.std(precission_all),2))\n",
    "print(\"Recall:\", np.round(np.mean(recall_all),2), '(+/-)', np.round(np.std(recall_all),2))\n",
    "print(\"F1-Score:\", np.round(np.mean(f1_score_all),2), '(+/-)', np.round(np.std(f1_score_all),2))"
   ]
  },
  {
   "cell_type": "markdown",
   "metadata": {},
   "source": [
    "For evaluation we focus on two approaches:\n",
    "- Manual evaluation: comparation of NER entities list and GT entities list.\n",
    "- Automatic evaluation: use Precission, recall and F1-Score."
   ]
  },
  {
   "cell_type": "markdown",
   "metadata": {},
   "source": [
    "For what can see here the automatic metrics give us very low performance. And double checking with manual evaluation we can see that automatic NER classification would need more fine-tunning of the model by retraining it with large annotated corpus. Althouh the NER types we obtain for the first text is quite similar to the one we thought about. There are some entities that our model finds as ('mm', 'PERSON') that is clearly not correct. Or ('single', 'DOSAGE') in the last text where looking to the context we can say it is more a frequency as it is not given a medicament. We can also state that it generally works correclty for drugs recognition. And it would be interesting to have a model that can detect body parts or illnesses. "
   ]
  },
  {
   "cell_type": "markdown",
   "metadata": {},
   "source": [
    "Another limitations that we should have into account to understand the results is that the GT data could be not as accurate as it should. We faced some complications with what exaclty entities refer to exactly and we found some entities are worth to annotate that the model fails to find."
   ]
  },
  {
   "cell_type": "markdown",
   "metadata": {},
   "source": [
    "##### Describe how NER type information could help in other NLP use cases."
   ]
  },
  {
   "cell_type": "markdown",
   "metadata": {},
   "source": [
    "NER can improve the understanding of texts and enable more advanced processing of text. The following are some examples where NER type information can benefit NLP applications:\n",
    "\n",
    "1. **Information Extraction**: NER can identify and classify entities, such as people, organizations, locations, dates, and more. This information is crucial for extracting structured data from unstructured text (legal documents, forms, news).\n",
    "\n",
    "2. **Sentiment Analysis**: identifying that a positive sentiment is expressed towards a particular brand or product in customer reviews can be valuable for businesses.\n",
    "\n",
    "3. **Question Answering**: NER can assist in locating entities within a text that are relevant to user queries.\n",
    "\n",
    "4. **Machine Translation**: NER can help identify and preserve the entities during the translation process, ensuring that names, places, and other important entities remain consistent across languages.\n",
    " NER can help identify sensitive information, such as personal names, addresses, or credit card numbers, and facilitate data protection measures.\n",
    "\n",
    "In summary, NER type information serves as a foundational element in many NLP applications, enhancing their ability to understand, extract, and act on information in text, making them more powerful and context-aware."
   ]
  },
  {
   "cell_type": "markdown",
   "metadata": {},
   "source": []
  }
 ],
 "metadata": {
  "kernelspec": {
   "display_name": "Python 3 (ipykernel)",
   "language": "python",
   "name": "python3"
  },
  "language_info": {
   "codemirror_mode": {
    "name": "ipython",
    "version": 3
   },
   "file_extension": ".py",
   "mimetype": "text/x-python",
   "name": "python",
   "nbconvert_exporter": "python",
   "pygments_lexer": "ipython3",
   "version": "3.11.6"
  }
 },
 "nbformat": 4,
 "nbformat_minor": 4
}
